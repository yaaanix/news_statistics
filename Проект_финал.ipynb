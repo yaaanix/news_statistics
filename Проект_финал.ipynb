{
  "nbformat": 4,
  "nbformat_minor": 0,
  "metadata": {
    "colab": {
      "provenance": []
    },
    "kernelspec": {
      "name": "python3",
      "display_name": "Python 3"
    },
    "language_info": {
      "name": "python"
    },
    "widgets": {
      "application/vnd.jupyter.widget-state+json": {
        "b1a2fea1dbc04e5cb3571a0e82ddad2f": {
          "model_module": "@jupyter-widgets/controls",
          "model_name": "HBoxModel",
          "model_module_version": "1.5.0",
          "state": {
            "_dom_classes": [],
            "_model_module": "@jupyter-widgets/controls",
            "_model_module_version": "1.5.0",
            "_model_name": "HBoxModel",
            "_view_count": null,
            "_view_module": "@jupyter-widgets/controls",
            "_view_module_version": "1.5.0",
            "_view_name": "HBoxView",
            "box_style": "",
            "children": [
              "IPY_MODEL_73a2c5152c5f4a17b288f5ab529cb541",
              "IPY_MODEL_4f780695fc5e4520b5ec29b30783dfdf",
              "IPY_MODEL_b1e644b4f0224051a62ea87801f1ee4f"
            ],
            "layout": "IPY_MODEL_99a31995f7c54b6584c55cadd87f0b31"
          }
        },
        "73a2c5152c5f4a17b288f5ab529cb541": {
          "model_module": "@jupyter-widgets/controls",
          "model_name": "HTMLModel",
          "model_module_version": "1.5.0",
          "state": {
            "_dom_classes": [],
            "_model_module": "@jupyter-widgets/controls",
            "_model_module_version": "1.5.0",
            "_model_name": "HTMLModel",
            "_view_count": null,
            "_view_module": "@jupyter-widgets/controls",
            "_view_module_version": "1.5.0",
            "_view_name": "HTMLView",
            "description": "",
            "description_tooltip": null,
            "layout": "IPY_MODEL_adf012938a4b4f44839b941d7cb89a37",
            "placeholder": "​",
            "style": "IPY_MODEL_5a08de744305472a9bd4c41bc975b9c8",
            "value": "100%"
          }
        },
        "4f780695fc5e4520b5ec29b30783dfdf": {
          "model_module": "@jupyter-widgets/controls",
          "model_name": "FloatProgressModel",
          "model_module_version": "1.5.0",
          "state": {
            "_dom_classes": [],
            "_model_module": "@jupyter-widgets/controls",
            "_model_module_version": "1.5.0",
            "_model_name": "FloatProgressModel",
            "_view_count": null,
            "_view_module": "@jupyter-widgets/controls",
            "_view_module_version": "1.5.0",
            "_view_name": "ProgressView",
            "bar_style": "success",
            "description": "",
            "description_tooltip": null,
            "layout": "IPY_MODEL_936536b2377945af8cab63b017fdc694",
            "max": 3,
            "min": 0,
            "orientation": "horizontal",
            "style": "IPY_MODEL_e2af380f3c874dc5819f9d2451d2f17a",
            "value": 3
          }
        },
        "b1e644b4f0224051a62ea87801f1ee4f": {
          "model_module": "@jupyter-widgets/controls",
          "model_name": "HTMLModel",
          "model_module_version": "1.5.0",
          "state": {
            "_dom_classes": [],
            "_model_module": "@jupyter-widgets/controls",
            "_model_module_version": "1.5.0",
            "_model_name": "HTMLModel",
            "_view_count": null,
            "_view_module": "@jupyter-widgets/controls",
            "_view_module_version": "1.5.0",
            "_view_name": "HTMLView",
            "description": "",
            "description_tooltip": null,
            "layout": "IPY_MODEL_1303d4d5c1d141049d39430e79741714",
            "placeholder": "​",
            "style": "IPY_MODEL_dc016d9ed828498bb5edcf118914a71b",
            "value": " 3/3 [01:46&lt;00:00, 36.26s/it]"
          }
        },
        "99a31995f7c54b6584c55cadd87f0b31": {
          "model_module": "@jupyter-widgets/base",
          "model_name": "LayoutModel",
          "model_module_version": "1.2.0",
          "state": {
            "_model_module": "@jupyter-widgets/base",
            "_model_module_version": "1.2.0",
            "_model_name": "LayoutModel",
            "_view_count": null,
            "_view_module": "@jupyter-widgets/base",
            "_view_module_version": "1.2.0",
            "_view_name": "LayoutView",
            "align_content": null,
            "align_items": null,
            "align_self": null,
            "border": null,
            "bottom": null,
            "display": null,
            "flex": null,
            "flex_flow": null,
            "grid_area": null,
            "grid_auto_columns": null,
            "grid_auto_flow": null,
            "grid_auto_rows": null,
            "grid_column": null,
            "grid_gap": null,
            "grid_row": null,
            "grid_template_areas": null,
            "grid_template_columns": null,
            "grid_template_rows": null,
            "height": null,
            "justify_content": null,
            "justify_items": null,
            "left": null,
            "margin": null,
            "max_height": null,
            "max_width": null,
            "min_height": null,
            "min_width": null,
            "object_fit": null,
            "object_position": null,
            "order": null,
            "overflow": null,
            "overflow_x": null,
            "overflow_y": null,
            "padding": null,
            "right": null,
            "top": null,
            "visibility": null,
            "width": null
          }
        },
        "adf012938a4b4f44839b941d7cb89a37": {
          "model_module": "@jupyter-widgets/base",
          "model_name": "LayoutModel",
          "model_module_version": "1.2.0",
          "state": {
            "_model_module": "@jupyter-widgets/base",
            "_model_module_version": "1.2.0",
            "_model_name": "LayoutModel",
            "_view_count": null,
            "_view_module": "@jupyter-widgets/base",
            "_view_module_version": "1.2.0",
            "_view_name": "LayoutView",
            "align_content": null,
            "align_items": null,
            "align_self": null,
            "border": null,
            "bottom": null,
            "display": null,
            "flex": null,
            "flex_flow": null,
            "grid_area": null,
            "grid_auto_columns": null,
            "grid_auto_flow": null,
            "grid_auto_rows": null,
            "grid_column": null,
            "grid_gap": null,
            "grid_row": null,
            "grid_template_areas": null,
            "grid_template_columns": null,
            "grid_template_rows": null,
            "height": null,
            "justify_content": null,
            "justify_items": null,
            "left": null,
            "margin": null,
            "max_height": null,
            "max_width": null,
            "min_height": null,
            "min_width": null,
            "object_fit": null,
            "object_position": null,
            "order": null,
            "overflow": null,
            "overflow_x": null,
            "overflow_y": null,
            "padding": null,
            "right": null,
            "top": null,
            "visibility": null,
            "width": null
          }
        },
        "5a08de744305472a9bd4c41bc975b9c8": {
          "model_module": "@jupyter-widgets/controls",
          "model_name": "DescriptionStyleModel",
          "model_module_version": "1.5.0",
          "state": {
            "_model_module": "@jupyter-widgets/controls",
            "_model_module_version": "1.5.0",
            "_model_name": "DescriptionStyleModel",
            "_view_count": null,
            "_view_module": "@jupyter-widgets/base",
            "_view_module_version": "1.2.0",
            "_view_name": "StyleView",
            "description_width": ""
          }
        },
        "936536b2377945af8cab63b017fdc694": {
          "model_module": "@jupyter-widgets/base",
          "model_name": "LayoutModel",
          "model_module_version": "1.2.0",
          "state": {
            "_model_module": "@jupyter-widgets/base",
            "_model_module_version": "1.2.0",
            "_model_name": "LayoutModel",
            "_view_count": null,
            "_view_module": "@jupyter-widgets/base",
            "_view_module_version": "1.2.0",
            "_view_name": "LayoutView",
            "align_content": null,
            "align_items": null,
            "align_self": null,
            "border": null,
            "bottom": null,
            "display": null,
            "flex": null,
            "flex_flow": null,
            "grid_area": null,
            "grid_auto_columns": null,
            "grid_auto_flow": null,
            "grid_auto_rows": null,
            "grid_column": null,
            "grid_gap": null,
            "grid_row": null,
            "grid_template_areas": null,
            "grid_template_columns": null,
            "grid_template_rows": null,
            "height": null,
            "justify_content": null,
            "justify_items": null,
            "left": null,
            "margin": null,
            "max_height": null,
            "max_width": null,
            "min_height": null,
            "min_width": null,
            "object_fit": null,
            "object_position": null,
            "order": null,
            "overflow": null,
            "overflow_x": null,
            "overflow_y": null,
            "padding": null,
            "right": null,
            "top": null,
            "visibility": null,
            "width": null
          }
        },
        "e2af380f3c874dc5819f9d2451d2f17a": {
          "model_module": "@jupyter-widgets/controls",
          "model_name": "ProgressStyleModel",
          "model_module_version": "1.5.0",
          "state": {
            "_model_module": "@jupyter-widgets/controls",
            "_model_module_version": "1.5.0",
            "_model_name": "ProgressStyleModel",
            "_view_count": null,
            "_view_module": "@jupyter-widgets/base",
            "_view_module_version": "1.2.0",
            "_view_name": "StyleView",
            "bar_color": null,
            "description_width": ""
          }
        },
        "1303d4d5c1d141049d39430e79741714": {
          "model_module": "@jupyter-widgets/base",
          "model_name": "LayoutModel",
          "model_module_version": "1.2.0",
          "state": {
            "_model_module": "@jupyter-widgets/base",
            "_model_module_version": "1.2.0",
            "_model_name": "LayoutModel",
            "_view_count": null,
            "_view_module": "@jupyter-widgets/base",
            "_view_module_version": "1.2.0",
            "_view_name": "LayoutView",
            "align_content": null,
            "align_items": null,
            "align_self": null,
            "border": null,
            "bottom": null,
            "display": null,
            "flex": null,
            "flex_flow": null,
            "grid_area": null,
            "grid_auto_columns": null,
            "grid_auto_flow": null,
            "grid_auto_rows": null,
            "grid_column": null,
            "grid_gap": null,
            "grid_row": null,
            "grid_template_areas": null,
            "grid_template_columns": null,
            "grid_template_rows": null,
            "height": null,
            "justify_content": null,
            "justify_items": null,
            "left": null,
            "margin": null,
            "max_height": null,
            "max_width": null,
            "min_height": null,
            "min_width": null,
            "object_fit": null,
            "object_position": null,
            "order": null,
            "overflow": null,
            "overflow_x": null,
            "overflow_y": null,
            "padding": null,
            "right": null,
            "top": null,
            "visibility": null,
            "width": null
          }
        },
        "dc016d9ed828498bb5edcf118914a71b": {
          "model_module": "@jupyter-widgets/controls",
          "model_name": "DescriptionStyleModel",
          "model_module_version": "1.5.0",
          "state": {
            "_model_module": "@jupyter-widgets/controls",
            "_model_module_version": "1.5.0",
            "_model_name": "DescriptionStyleModel",
            "_view_count": null,
            "_view_module": "@jupyter-widgets/base",
            "_view_module_version": "1.2.0",
            "_view_name": "StyleView",
            "description_width": ""
          }
        },
        "58d8794f85434dda832a89935ebd579d": {
          "model_module": "@jupyter-widgets/controls",
          "model_name": "HBoxModel",
          "model_module_version": "1.5.0",
          "state": {
            "_dom_classes": [],
            "_model_module": "@jupyter-widgets/controls",
            "_model_module_version": "1.5.0",
            "_model_name": "HBoxModel",
            "_view_count": null,
            "_view_module": "@jupyter-widgets/controls",
            "_view_module_version": "1.5.0",
            "_view_name": "HBoxView",
            "box_style": "",
            "children": [
              "IPY_MODEL_663623c8994947518908bcfdcb631a12",
              "IPY_MODEL_64ae9595b3dd4959adcd8312e63c69f0",
              "IPY_MODEL_7ea6a5d333684fc6b3a4ec0845c91b32"
            ],
            "layout": "IPY_MODEL_387312e4aee64d56b68a80575b93b042"
          }
        },
        "663623c8994947518908bcfdcb631a12": {
          "model_module": "@jupyter-widgets/controls",
          "model_name": "HTMLModel",
          "model_module_version": "1.5.0",
          "state": {
            "_dom_classes": [],
            "_model_module": "@jupyter-widgets/controls",
            "_model_module_version": "1.5.0",
            "_model_name": "HTMLModel",
            "_view_count": null,
            "_view_module": "@jupyter-widgets/controls",
            "_view_module_version": "1.5.0",
            "_view_name": "HTMLView",
            "description": "",
            "description_tooltip": null,
            "layout": "IPY_MODEL_3c9cab12f7f94c4d8d4f98601f7e24bb",
            "placeholder": "​",
            "style": "IPY_MODEL_102584adea7342c78a69961ecf678dd8",
            "value": "  0%"
          }
        },
        "64ae9595b3dd4959adcd8312e63c69f0": {
          "model_module": "@jupyter-widgets/controls",
          "model_name": "FloatProgressModel",
          "model_module_version": "1.5.0",
          "state": {
            "_dom_classes": [],
            "_model_module": "@jupyter-widgets/controls",
            "_model_module_version": "1.5.0",
            "_model_name": "FloatProgressModel",
            "_view_count": null,
            "_view_module": "@jupyter-widgets/controls",
            "_view_module_version": "1.5.0",
            "_view_name": "ProgressView",
            "bar_style": "danger",
            "description": "",
            "description_tooltip": null,
            "layout": "IPY_MODEL_00e630c124294b8a81787c41af6e521a",
            "max": 30,
            "min": 0,
            "orientation": "horizontal",
            "style": "IPY_MODEL_e6e0444f75044e5d949ae8e9d11ef8fb",
            "value": 0
          }
        },
        "7ea6a5d333684fc6b3a4ec0845c91b32": {
          "model_module": "@jupyter-widgets/controls",
          "model_name": "HTMLModel",
          "model_module_version": "1.5.0",
          "state": {
            "_dom_classes": [],
            "_model_module": "@jupyter-widgets/controls",
            "_model_module_version": "1.5.0",
            "_model_name": "HTMLModel",
            "_view_count": null,
            "_view_module": "@jupyter-widgets/controls",
            "_view_module_version": "1.5.0",
            "_view_name": "HTMLView",
            "description": "",
            "description_tooltip": null,
            "layout": "IPY_MODEL_d3fa4a4b9692412ca1ccc6d68ca1e254",
            "placeholder": "​",
            "style": "IPY_MODEL_1749af41bb8a4111947d67a9a407791d",
            "value": " 0/30 [00:04&lt;?, ?it/s]"
          }
        },
        "387312e4aee64d56b68a80575b93b042": {
          "model_module": "@jupyter-widgets/base",
          "model_name": "LayoutModel",
          "model_module_version": "1.2.0",
          "state": {
            "_model_module": "@jupyter-widgets/base",
            "_model_module_version": "1.2.0",
            "_model_name": "LayoutModel",
            "_view_count": null,
            "_view_module": "@jupyter-widgets/base",
            "_view_module_version": "1.2.0",
            "_view_name": "LayoutView",
            "align_content": null,
            "align_items": null,
            "align_self": null,
            "border": null,
            "bottom": null,
            "display": null,
            "flex": null,
            "flex_flow": null,
            "grid_area": null,
            "grid_auto_columns": null,
            "grid_auto_flow": null,
            "grid_auto_rows": null,
            "grid_column": null,
            "grid_gap": null,
            "grid_row": null,
            "grid_template_areas": null,
            "grid_template_columns": null,
            "grid_template_rows": null,
            "height": null,
            "justify_content": null,
            "justify_items": null,
            "left": null,
            "margin": null,
            "max_height": null,
            "max_width": null,
            "min_height": null,
            "min_width": null,
            "object_fit": null,
            "object_position": null,
            "order": null,
            "overflow": null,
            "overflow_x": null,
            "overflow_y": null,
            "padding": null,
            "right": null,
            "top": null,
            "visibility": null,
            "width": null
          }
        },
        "3c9cab12f7f94c4d8d4f98601f7e24bb": {
          "model_module": "@jupyter-widgets/base",
          "model_name": "LayoutModel",
          "model_module_version": "1.2.0",
          "state": {
            "_model_module": "@jupyter-widgets/base",
            "_model_module_version": "1.2.0",
            "_model_name": "LayoutModel",
            "_view_count": null,
            "_view_module": "@jupyter-widgets/base",
            "_view_module_version": "1.2.0",
            "_view_name": "LayoutView",
            "align_content": null,
            "align_items": null,
            "align_self": null,
            "border": null,
            "bottom": null,
            "display": null,
            "flex": null,
            "flex_flow": null,
            "grid_area": null,
            "grid_auto_columns": null,
            "grid_auto_flow": null,
            "grid_auto_rows": null,
            "grid_column": null,
            "grid_gap": null,
            "grid_row": null,
            "grid_template_areas": null,
            "grid_template_columns": null,
            "grid_template_rows": null,
            "height": null,
            "justify_content": null,
            "justify_items": null,
            "left": null,
            "margin": null,
            "max_height": null,
            "max_width": null,
            "min_height": null,
            "min_width": null,
            "object_fit": null,
            "object_position": null,
            "order": null,
            "overflow": null,
            "overflow_x": null,
            "overflow_y": null,
            "padding": null,
            "right": null,
            "top": null,
            "visibility": null,
            "width": null
          }
        },
        "102584adea7342c78a69961ecf678dd8": {
          "model_module": "@jupyter-widgets/controls",
          "model_name": "DescriptionStyleModel",
          "model_module_version": "1.5.0",
          "state": {
            "_model_module": "@jupyter-widgets/controls",
            "_model_module_version": "1.5.0",
            "_model_name": "DescriptionStyleModel",
            "_view_count": null,
            "_view_module": "@jupyter-widgets/base",
            "_view_module_version": "1.2.0",
            "_view_name": "StyleView",
            "description_width": ""
          }
        },
        "00e630c124294b8a81787c41af6e521a": {
          "model_module": "@jupyter-widgets/base",
          "model_name": "LayoutModel",
          "model_module_version": "1.2.0",
          "state": {
            "_model_module": "@jupyter-widgets/base",
            "_model_module_version": "1.2.0",
            "_model_name": "LayoutModel",
            "_view_count": null,
            "_view_module": "@jupyter-widgets/base",
            "_view_module_version": "1.2.0",
            "_view_name": "LayoutView",
            "align_content": null,
            "align_items": null,
            "align_self": null,
            "border": null,
            "bottom": null,
            "display": null,
            "flex": null,
            "flex_flow": null,
            "grid_area": null,
            "grid_auto_columns": null,
            "grid_auto_flow": null,
            "grid_auto_rows": null,
            "grid_column": null,
            "grid_gap": null,
            "grid_row": null,
            "grid_template_areas": null,
            "grid_template_columns": null,
            "grid_template_rows": null,
            "height": null,
            "justify_content": null,
            "justify_items": null,
            "left": null,
            "margin": null,
            "max_height": null,
            "max_width": null,
            "min_height": null,
            "min_width": null,
            "object_fit": null,
            "object_position": null,
            "order": null,
            "overflow": null,
            "overflow_x": null,
            "overflow_y": null,
            "padding": null,
            "right": null,
            "top": null,
            "visibility": null,
            "width": null
          }
        },
        "e6e0444f75044e5d949ae8e9d11ef8fb": {
          "model_module": "@jupyter-widgets/controls",
          "model_name": "ProgressStyleModel",
          "model_module_version": "1.5.0",
          "state": {
            "_model_module": "@jupyter-widgets/controls",
            "_model_module_version": "1.5.0",
            "_model_name": "ProgressStyleModel",
            "_view_count": null,
            "_view_module": "@jupyter-widgets/base",
            "_view_module_version": "1.2.0",
            "_view_name": "StyleView",
            "bar_color": null,
            "description_width": ""
          }
        },
        "d3fa4a4b9692412ca1ccc6d68ca1e254": {
          "model_module": "@jupyter-widgets/base",
          "model_name": "LayoutModel",
          "model_module_version": "1.2.0",
          "state": {
            "_model_module": "@jupyter-widgets/base",
            "_model_module_version": "1.2.0",
            "_model_name": "LayoutModel",
            "_view_count": null,
            "_view_module": "@jupyter-widgets/base",
            "_view_module_version": "1.2.0",
            "_view_name": "LayoutView",
            "align_content": null,
            "align_items": null,
            "align_self": null,
            "border": null,
            "bottom": null,
            "display": null,
            "flex": null,
            "flex_flow": null,
            "grid_area": null,
            "grid_auto_columns": null,
            "grid_auto_flow": null,
            "grid_auto_rows": null,
            "grid_column": null,
            "grid_gap": null,
            "grid_row": null,
            "grid_template_areas": null,
            "grid_template_columns": null,
            "grid_template_rows": null,
            "height": null,
            "justify_content": null,
            "justify_items": null,
            "left": null,
            "margin": null,
            "max_height": null,
            "max_width": null,
            "min_height": null,
            "min_width": null,
            "object_fit": null,
            "object_position": null,
            "order": null,
            "overflow": null,
            "overflow_x": null,
            "overflow_y": null,
            "padding": null,
            "right": null,
            "top": null,
            "visibility": null,
            "width": null
          }
        },
        "1749af41bb8a4111947d67a9a407791d": {
          "model_module": "@jupyter-widgets/controls",
          "model_name": "DescriptionStyleModel",
          "model_module_version": "1.5.0",
          "state": {
            "_model_module": "@jupyter-widgets/controls",
            "_model_module_version": "1.5.0",
            "_model_name": "DescriptionStyleModel",
            "_view_count": null,
            "_view_module": "@jupyter-widgets/base",
            "_view_module_version": "1.2.0",
            "_view_name": "StyleView",
            "description_width": ""
          }
        }
      }
    }
  },
  "cells": [
    {
      "cell_type": "markdown",
      "source": [
        "#**Финальный проект**"
      ],
      "metadata": {
        "id": "xudjKPxwpeni"
      }
    },
    {
      "cell_type": "markdown",
      "source": [
        "Сайт - https://vestinn.ru/news/"
      ],
      "metadata": {
        "id": "Tn9F_JcFqU7D"
      }
    },
    {
      "cell_type": "markdown",
      "source": [
        "##Блок 1. Работа с сайтом. Краулер"
      ],
      "metadata": {
        "id": "DcYbjjxKqdlD"
      }
    },
    {
      "cell_type": "code",
      "execution_count": 2,
      "metadata": {
        "colab": {
          "base_uri": "https://localhost:8080/"
        },
        "id": "YobM_A44pA1Z",
        "outputId": "056a3628-63d2-49e8-dd6c-0ab0e2e86390"
      },
      "outputs": [
        {
          "output_type": "stream",
          "name": "stdout",
          "text": [
            "Looking in indexes: https://pypi.org/simple, https://us-python.pkg.dev/colab-wheels/public/simple/\n",
            "Collecting fake_useragent\n",
            "  Downloading fake_useragent-1.1.3-py3-none-any.whl (50 kB)\n",
            "\u001b[2K     \u001b[90m━━━━━━━━━━━━━━━━━━━━━━━━━━━━━━━━━━━━━━━━\u001b[0m \u001b[32m50.5/50.5 KB\u001b[0m \u001b[31m1.3 MB/s\u001b[0m eta \u001b[36m0:00:00\u001b[0m\n",
            "\u001b[?25hRequirement already satisfied: importlib-resources>=5.0 in /usr/local/lib/python3.9/dist-packages (from fake_useragent) (5.12.0)\n",
            "Requirement already satisfied: zipp>=3.1.0 in /usr/local/lib/python3.9/dist-packages (from importlib-resources>=5.0->fake_useragent) (3.15.0)\n",
            "Installing collected packages: fake_useragent\n",
            "Successfully installed fake_useragent-1.1.3\n"
          ]
        }
      ],
      "source": [
        "import requests\n",
        "from pprint import pprint\n",
        "!pip install fake_useragent\n",
        "from fake_useragent import UserAgent\n",
        "session = requests.session()\n",
        "import time\n",
        "from datetime import datetime\n",
        "ua = UserAgent(verify_ssl=False)\n",
        "headers = {'User-Agent': ua.random}"
      ]
    },
    {
      "cell_type": "code",
      "source": [
        "import sqlite3\n",
        "from bs4 import BeautifulSoup\n",
        "import re"
      ],
      "metadata": {
        "id": "W4YzfoFuqlk6"
      },
      "execution_count": 3,
      "outputs": []
    },
    {
      "cell_type": "code",
      "source": [
        "conn = sqlite3.connect('news.db')\n",
        "cur = conn.cursor()"
      ],
      "metadata": {
        "id": "xzNvZknMqnPr"
      },
      "execution_count": 4,
      "outputs": []
    },
    {
      "cell_type": "code",
      "source": [
        "cur.execute(\"\"\"\n",
        "CREATE TABLE IF NOT EXISTS texts \n",
        "(id INTEGER PRIMARY KEY AUTOINCREMENT, news_id int, pub_year int, pub_month int, \n",
        "pub_day int, title text, short_text text, full_text text, link text)\n",
        "\"\"\")\n",
        "#тэги\n",
        "cur.execute(\"\"\"\n",
        "CREATE TABLE IF NOT EXISTS tags_names\n",
        "(id int PRIMARY KEY, news_id int, tags text) \n",
        "\"\"\")\n",
        "#просмотры\n",
        "cur.execute(\"\"\"\n",
        "CREATE TABLE IF NOT EXISTS views \n",
        "(id int PRIMARY KEY, news_id int, views_news int) \n",
        "\"\"\")\n",
        "conn.commit()\n",
        "conn.close()"
      ],
      "metadata": {
        "id": "hhn1UQwNq9Hl"
      },
      "execution_count": 5,
      "outputs": []
    },
    {
      "cell_type": "code",
      "source": [
        "page_number = 1\n",
        "url = f'https://vestinn.ru/news/?PAGEN_1={page_number}'\n",
        "req = session.get(url, headers={'User-Agent': ua.random})\n",
        "page = req.text"
      ],
      "metadata": {
        "id": "rE161Rn4rJzp"
      },
      "execution_count": 6,
      "outputs": []
    },
    {
      "cell_type": "code",
      "source": [
        "soup = BeautifulSoup(page, 'html.parser')"
      ],
      "metadata": {
        "id": "FN_uPYI0rLe-"
      },
      "execution_count": 7,
      "outputs": []
    },
    {
      "cell_type": "markdown",
      "source": [
        "**Страница с новостями**"
      ],
      "metadata": {
        "id": "-9UqhwQzrMFB"
      }
    },
    {
      "cell_type": "code",
      "source": [
        "#все новости в общей страницы\n",
        "news = soup.find_all('div', {'class': 'news'})"
      ],
      "metadata": {
        "id": "Q_HxV02srQDf"
      },
      "execution_count": 8,
      "outputs": []
    },
    {
      "cell_type": "code",
      "source": [
        "# заголовок - ссылка\n",
        "title_obj = news[0].find('a')\n",
        "title_obj"
      ],
      "metadata": {
        "colab": {
          "base_uri": "https://localhost:8080/"
        },
        "id": "yf4DlDj5rTu3",
        "outputId": "3b39df22-c89f-45cd-ca62-ae079890f940"
      },
      "execution_count": 9,
      "outputs": [
        {
          "output_type": "execute_result",
          "data": {
            "text/plain": [
              "<a class=\"news__link\" href=\"/news/vesti/215643/\">\n",
              "<div class=\"news__imgWrapper\">\n",
              "<img alt=\"Программа передач телеканала “Нижний Новгород 24” на 27 марта\" class=\"news__img\" src=\"/upload/iblock/c1e/a2gs5xb5o8juqqcnoxku2ovxqycmgy1s/Zakaty-NN24.webp\"/>\n",
              "</div>\n",
              "<div class=\"news__textWrapper\">\n",
              "<div class=\"news__time\">23:59</div>\n",
              "<div class=\"news__date\">26.03.23</div>\n",
              "<div class=\"news__views\">131</div>\n",
              "<div class=\"news__text ellipsis\">\n",
              "<div class=\"ellipsis__text\">Программа передач телеканала “Нижний Новгород 24” на 27 марта</div>\n",
              "</div>\n",
              "</div>\n",
              "</a>"
            ]
          },
          "metadata": {},
          "execution_count": 9
        }
      ]
    },
    {
      "cell_type": "code",
      "source": [
        "# просто заголовок\n",
        "title = title_obj.find('div',{'class':\"ellipsis__text\"}).text\n",
        "title"
      ],
      "metadata": {
        "colab": {
          "base_uri": "https://localhost:8080/",
          "height": 36
        },
        "id": "UcAtC2MKsAZn",
        "outputId": "da53d006-2473-4c8f-d56a-fd3e31e1a028"
      },
      "execution_count": 10,
      "outputs": [
        {
          "output_type": "execute_result",
          "data": {
            "text/plain": [
              "'Программа передач телеканала “Нижний Новгород 24” на 27 марта'"
            ],
            "application/vnd.google.colaboratory.intrinsic+json": {
              "type": "string"
            }
          },
          "metadata": {},
          "execution_count": 10
        }
      ]
    },
    {
      "cell_type": "code",
      "source": [
        "#Достанем свойства этой ссылки (куда ведет, class)\n",
        "attrs = title_obj.attrs\n",
        "attrs"
      ],
      "metadata": {
        "colab": {
          "base_uri": "https://localhost:8080/"
        },
        "id": "_Q3aGR4asGXI",
        "outputId": "d64c9285-bb09-4089-a3dd-cb2831b5db89"
      },
      "execution_count": 11,
      "outputs": [
        {
          "output_type": "execute_result",
          "data": {
            "text/plain": [
              "{'class': ['news__link'], 'href': '/news/vesti/215643/'}"
            ]
          },
          "metadata": {},
          "execution_count": 11
        }
      ]
    },
    {
      "cell_type": "code",
      "source": [
        "#ссылка\n",
        "href = title_obj.attrs['href']\n",
        "href"
      ],
      "metadata": {
        "colab": {
          "base_uri": "https://localhost:8080/",
          "height": 36
        },
        "id": "yjViSb-ZsGat",
        "outputId": "164cbb40-bd77-4fbd-9877-074cf3924ac1"
      },
      "execution_count": 12,
      "outputs": [
        {
          "output_type": "execute_result",
          "data": {
            "text/plain": [
              "'/news/vesti/215643/'"
            ],
            "application/vnd.google.colaboratory.intrinsic+json": {
              "type": "string"
            }
          },
          "metadata": {},
          "execution_count": 12
        }
      ]
    },
    {
      "cell_type": "code",
      "source": [
        "#день публикации\n",
        "pub_day = news[0].find('div', {'class':\"news__date\"}).text[:2]\n",
        "pub_day"
      ],
      "metadata": {
        "colab": {
          "base_uri": "https://localhost:8080/",
          "height": 36
        },
        "id": "DrxAWpdBsGfg",
        "outputId": "93879076-c98f-45dd-f944-e238e2641589"
      },
      "execution_count": 13,
      "outputs": [
        {
          "output_type": "execute_result",
          "data": {
            "text/plain": [
              "'26'"
            ],
            "application/vnd.google.colaboratory.intrinsic+json": {
              "type": "string"
            }
          },
          "metadata": {},
          "execution_count": 13
        }
      ]
    },
    {
      "cell_type": "code",
      "source": [
        "#месяц публикации\n",
        "pub_day = news[0].find('div', {'class':\"news__date\"}).text[3:5]\n",
        "pub_day"
      ],
      "metadata": {
        "colab": {
          "base_uri": "https://localhost:8080/",
          "height": 36
        },
        "id": "wfgbEb9ysGiH",
        "outputId": "1309e027-4643-4381-f93a-e552f2cbd0ab"
      },
      "execution_count": 14,
      "outputs": [
        {
          "output_type": "execute_result",
          "data": {
            "text/plain": [
              "'03'"
            ],
            "application/vnd.google.colaboratory.intrinsic+json": {
              "type": "string"
            }
          },
          "metadata": {},
          "execution_count": 14
        }
      ]
    },
    {
      "cell_type": "code",
      "source": [
        "#год публикации\n",
        "pub_day = news[0].find('div', {'class':\"news__date\"}).text[6:8]\n",
        "pub_day"
      ],
      "metadata": {
        "colab": {
          "base_uri": "https://localhost:8080/",
          "height": 36
        },
        "id": "HzI1M3gBsGkd",
        "outputId": "bbbc8491-e631-49a9-db67-5e913d307928"
      },
      "execution_count": 15,
      "outputs": [
        {
          "output_type": "execute_result",
          "data": {
            "text/plain": [
              "'23'"
            ],
            "application/vnd.google.colaboratory.intrinsic+json": {
              "type": "string"
            }
          },
          "metadata": {},
          "execution_count": 15
        }
      ]
    },
    {
      "cell_type": "code",
      "source": [
        "#кол-во просмотров новости \n",
        "views = news[0].find('div', {'class':\"news__views\"}).text\n",
        "views"
      ],
      "metadata": {
        "colab": {
          "base_uri": "https://localhost:8080/",
          "height": 36
        },
        "id": "VySdrBPHsGnn",
        "outputId": "762dd5b5-1c03-4dd2-abe9-0e556aa2b071"
      },
      "execution_count": 16,
      "outputs": [
        {
          "output_type": "execute_result",
          "data": {
            "text/plain": [
              "'131'"
            ],
            "application/vnd.google.colaboratory.intrinsic+json": {
              "type": "string"
            }
          },
          "metadata": {},
          "execution_count": 16
        }
      ]
    },
    {
      "cell_type": "markdown",
      "source": [
        "**Отдельная новость**"
      ],
      "metadata": {
        "id": "HR7Htzo1sWIE"
      }
    },
    {
      "cell_type": "code",
      "source": [
        "#Возьмем ссылку на полную новость и соединим с адерсом сайта\n",
        "url_one = 'https://vestinn.ru' + href\n",
        "url_one"
      ],
      "metadata": {
        "colab": {
          "base_uri": "https://localhost:8080/",
          "height": 36
        },
        "id": "a9OyWRcPsGqC",
        "outputId": "e58d0b74-3cc0-4240-9631-725a9508371c"
      },
      "execution_count": 17,
      "outputs": [
        {
          "output_type": "execute_result",
          "data": {
            "text/plain": [
              "'https://vestinn.ru/news/vesti/215643/'"
            ],
            "application/vnd.google.colaboratory.intrinsic+json": {
              "type": "string"
            }
          },
          "metadata": {},
          "execution_count": 17
        }
      ]
    },
    {
      "cell_type": "code",
      "source": [
        "#качаем, парсим\n",
        "req = session.get(url_one, headers={'User-Agent': ua.random})\n",
        "page = req.text\n",
        "\n",
        "soup = BeautifulSoup(page, 'html.parser')"
      ],
      "metadata": {
        "id": "0qk1jSsGsGsq"
      },
      "execution_count": 18,
      "outputs": []
    },
    {
      "cell_type": "code",
      "source": [
        "#короткий текст - превью \n",
        "short = soup.find('meta', {'property':'og:description'}).get('content')\n",
        "\n",
        "cleantext = re.compile('<.*?>|&([a-z0-9]+|#[0-9]{1,6}|#x[0-9a-f]{1,6});')\n",
        "short_text = re.sub(cleantext, '', short)\n",
        "short_text"
      ],
      "metadata": {
        "colab": {
          "base_uri": "https://localhost:8080/",
          "height": 36
        },
        "id": "u6jyxWmBsbVh",
        "outputId": "3220491c-2d27-4901-c8f0-533d42b1a466"
      },
      "execution_count": 19,
      "outputs": [
        {
          "output_type": "execute_result",
          "data": {
            "text/plain": [
              "'Смотрите сегодня на телеканале \"Нижний Новгород 24\".'"
            ],
            "application/vnd.google.colaboratory.intrinsic+json": {
              "type": "string"
            }
          },
          "metadata": {},
          "execution_count": 19
        }
      ]
    },
    {
      "cell_type": "code",
      "source": [
        "#полный текст статьи\n",
        "full_text= soup.find('div', {'class':\"readMore__content ellipsis__text\"}).text\n",
        "full_text[:200]"
      ],
      "metadata": {
        "colab": {
          "base_uri": "https://localhost:8080/",
          "height": 54
        },
        "id": "Cg5aYSy-sbYq",
        "outputId": "7354e7de-5822-4c76-90d9-21d2de4d1c2a"
      },
      "execution_count": 20,
      "outputs": [
        {
          "output_type": "execute_result",
          "data": {
            "text/plain": [
              "'\\n\\n\\n\\n\\n\\n00:00\\n\\n\\n\\n\\r\\n\\t\\t\\t Из Горького с любовью. \"Памятник архитектору\". Документальный фильм\\r\\n\\t\\t\\n\\n\\n\\n16+\\n\\n\\n\\n\\n\\n\\n00.25\\n\\n\\n\\n\\r\\n\\t\\t\\t Убили председателя. Документальный фильм\\r\\n\\t\\t\\n\\n\\n\\n16+\\n\\n\\n\\n\\n\\n\\n01.00\\n\\n\\n\\n\\r\\n\\t\\t\\t Говори'"
            ],
            "application/vnd.google.colaboratory.intrinsic+json": {
              "type": "string"
            }
          },
          "metadata": {},
          "execution_count": 20
        }
      ]
    },
    {
      "cell_type": "code",
      "source": [
        "#хэштег\n",
        "t = soup.find('div',{'class':\"tags_list\"})\n",
        "tag = t.find('a').text\n",
        "tag"
      ],
      "metadata": {
        "colab": {
          "base_uri": "https://localhost:8080/",
          "height": 36
        },
        "id": "FF64n0_2sbbQ",
        "outputId": "34ee4bac-c25b-44f7-9ea0-ed04b7f34291"
      },
      "execution_count": 21,
      "outputs": [
        {
          "output_type": "execute_result",
          "data": {
            "text/plain": [
              "'#Вести'"
            ],
            "application/vnd.google.colaboratory.intrinsic+json": {
              "type": "string"
            }
          },
          "metadata": {},
          "execution_count": 21
        }
      ]
    },
    {
      "cell_type": "code",
      "source": [
        "#полная дата\n",
        "date = soup.find('meta',{'itemprop':\"datePublished\"}).get('datetime')\n",
        "date"
      ],
      "metadata": {
        "colab": {
          "base_uri": "https://localhost:8080/",
          "height": 36
        },
        "id": "2ZEJK_LGsbd9",
        "outputId": "e1ae08d1-33b0-462e-f733-d26ffa709a50"
      },
      "execution_count": 24,
      "outputs": [
        {
          "output_type": "execute_result",
          "data": {
            "text/plain": [
              "'26.03.23'"
            ],
            "application/vnd.google.colaboratory.intrinsic+json": {
              "type": "string"
            }
          },
          "metadata": {},
          "execution_count": 24
        }
      ]
    },
    {
      "cell_type": "code",
      "source": [
        "page_id = href.split('/')[-2]\n",
        "page_id"
      ],
      "metadata": {
        "colab": {
          "base_uri": "https://localhost:8080/",
          "height": 36
        },
        "id": "yDXBuQOgsbgt",
        "outputId": "ecda8288-3fb8-48e6-958c-ab8f89295907"
      },
      "execution_count": 23,
      "outputs": [
        {
          "output_type": "execute_result",
          "data": {
            "text/plain": [
              "'215643'"
            ],
            "application/vnd.google.colaboratory.intrinsic+json": {
              "type": "string"
            }
          },
          "metadata": {},
          "execution_count": 23
        }
      ]
    },
    {
      "cell_type": "markdown",
      "source": [
        "**Функции**"
      ],
      "metadata": {
        "id": "U8b-a_Hqs2hM"
      }
    },
    {
      "cell_type": "code",
      "source": [
        "import requests\n",
        "from pprint import pprint\n",
        "!pip install fake_useragent\n",
        "from fake_useragent import UserAgent\n",
        "session = requests.session()\n",
        "import time\n",
        "from datetime import datetime\n",
        "ua = UserAgent(verify_ssl=False)\n",
        "headers = {'User-Agent': ua.random}"
      ],
      "metadata": {
        "colab": {
          "base_uri": "https://localhost:8080/"
        },
        "id": "J7hYjiI9sbj6",
        "outputId": "5d7274ba-f7da-4c8b-d103-94231f01748f"
      },
      "execution_count": 2,
      "outputs": [
        {
          "output_type": "stream",
          "name": "stdout",
          "text": [
            "Looking in indexes: https://pypi.org/simple, https://us-python.pkg.dev/colab-wheels/public/simple/\n",
            "Requirement already satisfied: fake_useragent in /usr/local/lib/python3.9/dist-packages (1.1.3)\n",
            "Requirement already satisfied: importlib-resources>=5.0 in /usr/local/lib/python3.9/dist-packages (from fake_useragent) (5.12.0)\n",
            "Requirement already satisfied: zipp>=3.1.0 in /usr/local/lib/python3.9/dist-packages (from importlib-resources>=5.0->fake_useragent) (3.15.0)\n"
          ]
        }
      ]
    },
    {
      "cell_type": "code",
      "source": [
        "import sqlite3\n",
        "from bs4 import BeautifulSoup\n",
        "import re"
      ],
      "metadata": {
        "id": "NOUD1eZTsbm2"
      },
      "execution_count": 3,
      "outputs": []
    },
    {
      "cell_type": "code",
      "source": [
        "conn = sqlite3.connect('news.db')\n",
        "cur = conn.cursor()"
      ],
      "metadata": {
        "id": "eRtITSawsbpc"
      },
      "execution_count": 27,
      "outputs": []
    },
    {
      "cell_type": "code",
      "source": [
        "cur.execute(\"\"\"\n",
        "CREATE TABLE IF NOT EXISTS texts \n",
        "(id INTEGER PRIMARY KEY AUTOINCREMENT, news_id int, pub_year int, pub_month int, \n",
        "pub_day int, title text, short_text text, full_text text, link text)\n",
        "\"\"\")\n",
        "#тэги\n",
        "cur.execute(\"\"\"\n",
        "CREATE TABLE IF NOT EXISTS tags_names\n",
        "(id int PRIMARY KEY, news_id int, tags text) \n",
        "\"\"\")\n",
        "#просмотры\n",
        "cur.execute(\"\"\"\n",
        "CREATE TABLE IF NOT EXISTS views \n",
        "(id int PRIMARY KEY, news_id int, views_news int) \n",
        "\"\"\")\n",
        "conn.commit()\n",
        "conn.close()"
      ],
      "metadata": {
        "id": "UdBnllCwsbsO"
      },
      "execution_count": 28,
      "outputs": []
    },
    {
      "cell_type": "code",
      "source": [
        "#страница со списком новостей \n",
        "def parse_news_page_block(one_block):\n",
        "    block = {}\n",
        "    a = one_block.find('a')\n",
        "    block['title'] = str(a.text)\n",
        "    block['href'] = a.attrs['href']\n",
        "    block['views_news'] = int(one_block.find('div', {'class':\"news__views\"}).text)\n",
        "    block['pub_day'] = int(one_block.find('div', {'class':\"news__date\"}).text[:2])\n",
        "    block['pub_month'] = int(one_block.find('div', {'class':\"news__date\"}).text[3:5])\n",
        "    block['pub_year'] = int(one_block.find('div', {'class':\"news__date\"}).text[6:8])\n",
        "    return block"
      ],
      "metadata": {
        "id": "FlWoIMnosbuv"
      },
      "execution_count": 29,
      "outputs": []
    },
    {
      "cell_type": "code",
      "source": [
        "#страница одной новости \n",
        "def parse_one_article(block):\n",
        "    url_one = 'https://vestinn.ru' + block['href']\n",
        "    block['link'] = 'https://vestinn.ru' + block['href']\n",
        "    block['page_id'] = int(block['href'].split('/')[-2])\n",
        "    req = session.get(url_one, headers={'User-Agent': ua.random})\n",
        "    page = req.text\n",
        "    soup = BeautifulSoup(page, 'html.parser')\n",
        "    block['full_text'] = str(soup.find('div', {'class':\"readMore__content ellipsis__text\"}).text)\n",
        "    t = soup.find('div',{'class':\"tags_list\"})\n",
        "    block['tags'] = str(t.find('a').text)\n",
        "    short = soup.find('meta', {'property':'og:description'}).get('content')\n",
        "    cleantext = re.compile('<.*?>|&([a-z0-9]+|#[0-9]{1,6}|#x[0-9a-f]{1,6});')\n",
        "    block['short_text'] = str(re.sub(cleantext, '', short))\n",
        "    block['date'] = str(soup.find('meta',{'itemprop':\"datePublished\"}).get('datetime'))\n",
        "    return block"
      ],
      "metadata": {
        "id": "FBbeGXh8sGw8"
      },
      "execution_count": 30,
      "outputs": []
    },
    {
      "cell_type": "code",
      "source": [
        "#Обработать N-ую страницу новостей\n",
        "def get_nth_page(page_number):\n",
        "    # скачиваем\n",
        "    url = f'https://vestinn.ru/news/?PAGEN_1={page_number}'\n",
        "\n",
        "    req = session.get(url, headers={'User-Agent': ua.random})\n",
        "    page = req.text\n",
        "    soup = BeautifulSoup(page, 'html.parser')\n",
        "    \n",
        "    # находим новости\n",
        "    news = soup.find_all('div', {'class': 'news'})\n",
        "    \n",
        "    \n",
        "    # идем по новостям и обрабатываем их\n",
        "    blocks = []\n",
        "    for n in news:\n",
        "        try:\n",
        "            blocks.append(parse_news_page_block(n))\n",
        "        except Exception as e:\n",
        "            print(e)\n",
        "\n",
        "    # идем по отдельным статьям и достаем информацию\n",
        "    result = []\n",
        "    for b in blocks:\n",
        "        if b['href'] not in seen_news:\n",
        "                try:\n",
        "                    res = parse_one_article(b)\n",
        "                    res['news_id'] = b['page_id']\n",
        "                    result.append(res)\n",
        "                except Exception as e:\n",
        "                    print(e)\n",
        "        else:\n",
        "            print('Seen', b['href'])\n",
        "    \n",
        "    # возвращаем найденную информацию\n",
        "    return result"
      ],
      "metadata": {
        "id": "QrwerOzVtxAD"
      },
      "execution_count": 31,
      "outputs": []
    },
    {
      "cell_type": "code",
      "source": [
        "#Пишем в базу. РАБОТАЕТ, СОХРАНЯЕТ ТЭГИ\n",
        "def write_to_db(block):\n",
        "      # сохраняем информацию по текстам\n",
        "    cur.execute(\n",
        "        \"\"\"\n",
        "        INSERT INTO texts \n",
        "            (news_id, title, pub_year, pub_month, pub_day, short_text, full_text) \n",
        "            VALUES (?, ?, ?, ?, ?, ?, ?)\n",
        "        \"\"\", (\n",
        "            block['news_id'], block['title'], block['pub_year'], block['pub_month'], \n",
        "            block['pub_day'], block['short_text'], \n",
        "            block['full_text'])\n",
        "    )\n",
        "    conn.commit()\n",
        "#тэги\n",
        "    cur.execute(\n",
        "        \"\"\"\n",
        "        INSERT INTO tags_names\n",
        "            (news_id, tags)\n",
        "            VALUES (?, ?)\n",
        "        \"\"\", (\n",
        "            block['news_id'], block['tags'])\n",
        "    )    \n",
        "    conn.commit()\n",
        "#просмотры\n",
        "    cur.execute(\n",
        "        \"\"\"\n",
        "        INSERT INTO views  \n",
        "            (news_id, views_news)\n",
        "            VALUES (?,?)\n",
        "        \"\"\", (\n",
        "            block['news_id'], block['views_news'])\n",
        "    )  \n",
        "    conn.commit()   \n",
        "    # добавляем, что такой id уже видели\n",
        "    seen_news.add(block['news_id'])"
      ],
      "metadata": {
        "id": "nWruc3zitxN4"
      },
      "execution_count": 38,
      "outputs": []
    },
    {
      "cell_type": "code",
      "source": [
        "conn = sqlite3.connect('news.db')\n",
        "cur = conn.cursor()"
      ],
      "metadata": {
        "id": "5yCi4KUitxdu"
      },
      "execution_count": 39,
      "outputs": []
    },
    {
      "cell_type": "code",
      "source": [
        "cur.execute('SELECT news_id FROM texts')\n",
        "seen_news = set(i[0] for i in cur.fetchall())"
      ],
      "metadata": {
        "id": "6Y_uzHt5txgM"
      },
      "execution_count": 40,
      "outputs": []
    },
    {
      "cell_type": "code",
      "source": [
        "from tqdm.auto import tqdm"
      ],
      "metadata": {
        "id": "MYiTWkXatxiV"
      },
      "execution_count": 41,
      "outputs": []
    },
    {
      "cell_type": "code",
      "source": [
        "def run_all(n_pages):\n",
        "    for i in tqdm(range(n_pages)):\n",
        "        blocks = get_nth_page(i+1)\n",
        "        for block in blocks:\n",
        "            write_to_db(block)"
      ],
      "metadata": {
        "id": "KMATN9aatxkk"
      },
      "execution_count": 42,
      "outputs": []
    },
    {
      "cell_type": "code",
      "source": [
        "run_all(30)"
      ],
      "metadata": {
        "colab": {
          "base_uri": "https://localhost:8080/",
          "height": 377,
          "referenced_widgets": [
            "b1a2fea1dbc04e5cb3571a0e82ddad2f",
            "73a2c5152c5f4a17b288f5ab529cb541",
            "4f780695fc5e4520b5ec29b30783dfdf",
            "b1e644b4f0224051a62ea87801f1ee4f",
            "99a31995f7c54b6584c55cadd87f0b31",
            "adf012938a4b4f44839b941d7cb89a37",
            "5a08de744305472a9bd4c41bc975b9c8",
            "936536b2377945af8cab63b017fdc694",
            "e2af380f3c874dc5819f9d2451d2f17a",
            "1303d4d5c1d141049d39430e79741714",
            "dc016d9ed828498bb5edcf118914a71b"
          ]
        },
        "id": "EvZQBDiUtxm4",
        "outputId": "dd4c4f4c-5f5f-490b-e2d2-111509981520"
      },
      "execution_count": 43,
      "outputs": [
        {
          "output_type": "display_data",
          "data": {
            "text/plain": [
              "  0%|          | 0/3 [00:00<?, ?it/s]"
            ],
            "application/vnd.jupyter.widget-view+json": {
              "version_major": 2,
              "version_minor": 0,
              "model_id": "b1a2fea1dbc04e5cb3571a0e82ddad2f"
            }
          },
          "metadata": {}
        },
        {
          "output_type": "stream",
          "name": "stdout",
          "text": [
            "'NoneType' object has no attribute 'text'\n",
            "'NoneType' object has no attribute 'text'\n",
            "'NoneType' object has no attribute 'text'\n",
            "'NoneType' object has no attribute 'text'\n",
            "'NoneType' object has no attribute 'text'\n",
            "'NoneType' object has no attribute 'text'\n",
            "'NoneType' object has no attribute 'text'\n",
            "'NoneType' object has no attribute 'text'\n",
            "'NoneType' object has no attribute 'text'\n",
            "'NoneType' object has no attribute 'text'\n",
            "'NoneType' object has no attribute 'text'\n",
            "'NoneType' object has no attribute 'text'\n",
            "'NoneType' object has no attribute 'text'\n",
            "'NoneType' object has no attribute 'text'\n",
            "'NoneType' object has no attribute 'text'\n",
            "'NoneType' object has no attribute 'text'\n",
            "'NoneType' object has no attribute 'text'\n",
            "'NoneType' object has no attribute 'text'\n"
          ]
        }
      ]
    },
    {
      "cell_type": "code",
      "execution_count": null,
      "metadata": {
        "id": "ZJ6sDsLluL78"
      },
      "outputs": [],
      "source": [
        "#ПОЛНЫЙ КРАУЛЕР\n",
        "import pandas as pd\n",
        "conn = sqlite3.connect('news.db')\n",
        "cur = conn.cursor()\n",
        "cur.execute(\"\"\"\n",
        "CREATE TABLE IF NOT EXISTS texts \n",
        "(id INTEGER PRIMARY KEY AUTOINCREMENT, news_id int, pub_year int, pub_month int, \n",
        "pub_day int, title text, short_text text, full_text text, link text)\n",
        "\"\"\")\n",
        "#тэги\n",
        "cur.execute(\"\"\"\n",
        "CREATE TABLE IF NOT EXISTS tags_names\n",
        "(id int PRIMARY KEY, news_id int, tags text) \n",
        "\"\"\")\n",
        "#просмотры\n",
        "cur.execute(\"\"\"\n",
        "CREATE TABLE IF NOT EXISTS views \n",
        "(id int PRIMARY KEY, news_id int, views_news int) \n",
        "\"\"\")\n",
        "\n",
        "\n",
        "conn.commit()\n",
        "conn.close()\n",
        "\n",
        "#страница со списком новостей \n",
        "def parse_news_page_block(one_block):\n",
        "    block = {}\n",
        "    a = one_block.find('a')\n",
        "    block['title'] = str(a.text)\n",
        "    block['href'] = a.attrs['href']\n",
        "    block['views_news'] = int(one_block.find('div', {'class':\"news__views\"}).text)\n",
        "    block['pub_day'] = int(one_block.find('div', {'class':\"news__date\"}).text[:2])\n",
        "    block['pub_month'] = int(one_block.find('div', {'class':\"news__date\"}).text[3:5])\n",
        "    block['pub_year'] = int(one_block.find('div', {'class':\"news__date\"}).text[6:8])\n",
        "    return block\n",
        "#страница одной новости \n",
        "def parse_one_article(block):\n",
        "    url_one = 'https://vestinn.ru' + block['href']\n",
        "    block['link'] = 'https://vestinn.ru' + block['href']\n",
        "    block['page_id'] = int(block['href'].split('/')[-2])\n",
        "    req = session.get(url_one, headers={'User-Agent': ua.random})\n",
        "    page = req.text\n",
        "    soup = BeautifulSoup(page, 'html.parser')\n",
        "    block['full_text'] = str(soup.find('div', {'class':\"readMore__content ellipsis__text\"}).text)\n",
        "    t = soup.find('div',{'class':\"tags_list\"})\n",
        "    block['tags'] = str(t.find('a').text)\n",
        "    short = soup.find('meta', {'property':'og:description'}).get('content')\n",
        "    cleantext = re.compile('<.*?>|&([a-z0-9]+|#[0-9]{1,6}|#x[0-9a-f]{1,6});')\n",
        "    block['short_text'] = str(re.sub(cleantext, '', short))\n",
        "    block['date'] = str(soup.find('meta',{'itemprop':\"datePublished\"}).get('datetime'))\n",
        "    return block\n",
        "\n",
        "#Обработать N-ую страницу новостей\n",
        "def get_nth_page(page_number):\n",
        "    # скачиваем\n",
        "    url = f'https://vestinn.ru/news/?PAGEN_1={page_number}'\n",
        "\n",
        "    req = session.get(url, headers={'User-Agent': ua.random})\n",
        "    page = req.text\n",
        "    soup = BeautifulSoup(page, 'html.parser')\n",
        "    \n",
        "    # находим новости\n",
        "    news = soup.find_all('div', {'class': 'news'})\n",
        "    \n",
        "    \n",
        "    # идем по новостям и обрабатываем их\n",
        "    blocks = []\n",
        "    for n in news:\n",
        "        try:\n",
        "            blocks.append(parse_news_page_block(n))\n",
        "        except Exception as e:\n",
        "            print(e)\n",
        "\n",
        "    # идем по отдельным статьям и достаем информацию\n",
        "    result = []\n",
        "    for b in blocks:\n",
        "        if b['href'] not in seen_news:\n",
        "                try:\n",
        "                    res = parse_one_article(b)\n",
        "                    res['news_id'] = b['page_id']\n",
        "                    result.append(res)\n",
        "                except Exception as e:\n",
        "                    print(e)\n",
        "        else:\n",
        "            print('Seen', b['href'])\n",
        "    \n",
        "    # возвращаем найденную информацию\n",
        "    return result  \n",
        "#Пишем в базу. РАБОТАЕТ, СОХРАНЯЕТ ТЭГИ\n",
        "def write_to_db(block):\n",
        "      # сохраняем информацию по текстам\n",
        "    cur.execute(\n",
        "        \"\"\"\n",
        "        INSERT INTO texts \n",
        "            (news_id, title, pub_year, pub_month, pub_day, short_text, full_text, link) \n",
        "            VALUES (?, ?, ?, ?, ?, ?, ?, ?)\n",
        "        \"\"\", (\n",
        "            block['news_id'], block['title'], block['pub_year'], block['pub_month'], \n",
        "            block['pub_day'], block['short_text'], \n",
        "            block['full_text'], block['link'])\n",
        "    )\n",
        "    conn.commit()\n",
        "#тэги\n",
        "    cur.execute(\n",
        "        \"\"\"\n",
        "        INSERT INTO tags_names\n",
        "            (news_id, tags)\n",
        "            VALUES (?, ?)\n",
        "        \"\"\", (\n",
        "            block['news_id'], block['tags'])\n",
        "    )    \n",
        "    conn.commit()\n",
        "#просмотры\n",
        "    cur.execute(\n",
        "        \"\"\"\n",
        "        INSERT INTO views  \n",
        "            (news_id, views_news)\n",
        "            VALUES (?,?)\n",
        "        \"\"\", (\n",
        "            block['news_id'], block['views_news'])\n",
        "    )  \n",
        "    conn.commit()  \n",
        "    # добавляем, что такой id уже видели\n",
        "    seen_news.add(block['news_id'])  \n",
        "\n",
        "from tqdm.auto import tqdm\n",
        "conn = sqlite3.connect('news.db')\n",
        "cur = conn.cursor()\n",
        "\n",
        "cur.execute('SELECT news_id FROM texts')\n",
        "seen_news = set(i[0] for i in cur.fetchall())\n",
        "\n",
        "def run_all(n_pages):\n",
        "    for i in tqdm(range(n_pages)):\n",
        "        blocks = get_nth_page(i+1)\n",
        "        for block in blocks:\n",
        "            write_to_db(block)\n",
        "\n",
        "run_all(30)\n",
        "\n",
        "con = sqlite3.connect('news.db')  # подключение\n",
        "cur = con.cursor() \n",
        "\n",
        "id_title_text = \"\"\"\n",
        "SELECT news_id, title, full_text, pub_day from texts\n",
        "\"\"\"\n",
        "cur.execute(id_title_text)\n",
        "\n",
        "df = pd.read_sql_query(id_title_text, con=conn)"
      ]
    },
    {
      "cell_type": "markdown",
      "source": [
        "##Работа с базой "
      ],
      "metadata": {
        "id": "0MdrhBfuxfRt"
      }
    },
    {
      "cell_type": "code",
      "source": [
        "con = sqlite3.connect('news.db')  # подключение\n",
        "cur = con.cursor() "
      ],
      "metadata": {
        "id": "u2MjKtR5txsf"
      },
      "execution_count": 46,
      "outputs": []
    },
    {
      "cell_type": "code",
      "source": [
        "id_title_text = \"\"\"\n",
        "SELECT news_id, title, full_text, short_text, pub_day, link from texts\n",
        "\"\"\"\n",
        "cur.execute(id_title_text)"
      ],
      "metadata": {
        "colab": {
          "base_uri": "https://localhost:8080/"
        },
        "id": "KQRXlfLAtxu8",
        "outputId": "0217d18e-d887-480c-d3e4-9232daadb836"
      },
      "execution_count": 47,
      "outputs": [
        {
          "output_type": "execute_result",
          "data": {
            "text/plain": [
              "<sqlite3.Cursor at 0x7ff007c6b960>"
            ]
          },
          "metadata": {},
          "execution_count": 47
        }
      ]
    },
    {
      "cell_type": "code",
      "source": [
        "import pandas as pd\n",
        "df = pd.read_sql_query(id_title_text, con=conn)\n",
        "df"
      ],
      "metadata": {
        "colab": {
          "base_uri": "https://localhost:8080/",
          "height": 693
        },
        "id": "GETSh5iltxxz",
        "outputId": "6cdc96c8-91a9-4360-ff87-96148bb6d5ad"
      },
      "execution_count": 53,
      "outputs": [
        {
          "output_type": "execute_result",
          "data": {
            "text/plain": [
              "     news_id                                              title  \\\n",
              "0     215643  \\n\\n\\n\\n\\n23:59\\n26.03.23\\n141\\n\\nПрограмма пе...   \n",
              "1     215643  \\n\\n\\n\\n\\n23:59\\n26.03.23\\n142\\n\\nПрограмма пе...   \n",
              "2     215702  \\n\\n\\n\\n\\n18:00\\n26.03.23\\n280\\n\\nРоспотребнад...   \n",
              "3     215701  \\n\\n\\n\\n\\n17:00\\n26.03.23\\n281\\n\\nДва трамвая ...   \n",
              "4     215700  \\n\\n\\n\\n\\n16:30\\n26.03.23\\n331\\n\\nМЧС сообщает...   \n",
              "..       ...                                                ...   \n",
              "164   215624  \\n\\n\\n\\n\\n13:26\\n24.03.23\\n470\\n\\n7 партию гум...   \n",
              "165   215635  \\n\\n\\n\\n\\n12:35\\n24.03.23\\n688\\n\\nСамая дорога...   \n",
              "166   215375  \\n\\n\\n\\n\\n12:28\\n24.03.23\\n63156\\n\\nНародные п...   \n",
              "167   215638  \\n\\n\\n\\n\\n12:00\\n24.03.23\\n593\\n\\nКовид обнару...   \n",
              "168   215614  \\n\\n\\n\\n\\n11:31\\n24.03.23\\n610\\n\\n\"Вести-Приво...   \n",
              "\n",
              "                                             full_text  \\\n",
              "0    \\n\\n\\n\\n\\n\\n00:00\\n\\n\\n\\n\\r\\n\\t\\t\\t Из Горьког...   \n",
              "1    \\n\\n\\n\\n\\n\\n00:00\\n\\n\\n\\n\\r\\n\\t\\t\\t Из Горьког...   \n",
              "2    \\n\\r\\n\\t Управление Роспотребнадзора усилило с...   \n",
              "3    \\n\\r\\n\\t Два трамвая \"МиНиН\" сегодня вышел по ...   \n",
              "4    \\n\\n                    Весенний паводок начал...   \n",
              "..                                                 ...   \n",
              "164  \\n\\n                    Заключительная в этом ...   \n",
              "165  \\n\\n                    Первое место в рейтинг...   \n",
              "166  \\n\\n                    Феофан жил на рубеже V...   \n",
              "167  \\n\\n                    В Нижегородской област...   \n",
              "168  \\n\\n                    Товарный поезд сошел с...   \n",
              "\n",
              "                                            short_text  pub_day  \\\n",
              "0    Смотрите сегодня на телеканале \"Нижний Новгоро...       26   \n",
              "1    Смотрите сегодня на телеканале \"Нижний Новгоро...       26   \n",
              "2           Усилен контроль за качеством воды из крана       26   \n",
              "3    Пополнения трамвайного парка в ближайшее время...       26   \n",
              "4    Затопление произошло на 4-х участках в регионе...       26   \n",
              "..                                                 ...      ...   \n",
              "164  62 тонны гуманитарной помощи собрали и отправи...       24   \n",
              "165  Квартира расположена недалеко от Нижегородског...       24   \n",
              "166  Верующие 25 марта вспоминают Феофана Исповедни...       24   \n",
              "167     Летальных случаев за сутки не было с 20 марта.       24   \n",
              "168  Журналисты программы \"Вести-Приволжье\" и ведущ...       24   \n",
              "\n",
              "                                        link  \n",
              "0                                       None  \n",
              "1                                       None  \n",
              "2                                       None  \n",
              "3                                       None  \n",
              "4                                       None  \n",
              "..                                       ...  \n",
              "164    https://vestinn.ru/news/vesti/215624/  \n",
              "165  https://vestinn.ru/news/society/215635/  \n",
              "166    https://vestinn.ru/news/vesti/215375/  \n",
              "167   https://vestinn.ru/news/health/215638/  \n",
              "168    https://vestinn.ru/news/vesti/215614/  \n",
              "\n",
              "[169 rows x 6 columns]"
            ],
            "text/html": [
              "\n",
              "  <div id=\"df-95d8f8d5-45f6-420f-bf57-4d4895f27b76\">\n",
              "    <div class=\"colab-df-container\">\n",
              "      <div>\n",
              "<style scoped>\n",
              "    .dataframe tbody tr th:only-of-type {\n",
              "        vertical-align: middle;\n",
              "    }\n",
              "\n",
              "    .dataframe tbody tr th {\n",
              "        vertical-align: top;\n",
              "    }\n",
              "\n",
              "    .dataframe thead th {\n",
              "        text-align: right;\n",
              "    }\n",
              "</style>\n",
              "<table border=\"1\" class=\"dataframe\">\n",
              "  <thead>\n",
              "    <tr style=\"text-align: right;\">\n",
              "      <th></th>\n",
              "      <th>news_id</th>\n",
              "      <th>title</th>\n",
              "      <th>full_text</th>\n",
              "      <th>short_text</th>\n",
              "      <th>pub_day</th>\n",
              "      <th>link</th>\n",
              "    </tr>\n",
              "  </thead>\n",
              "  <tbody>\n",
              "    <tr>\n",
              "      <th>0</th>\n",
              "      <td>215643</td>\n",
              "      <td>\\n\\n\\n\\n\\n23:59\\n26.03.23\\n141\\n\\nПрограмма пе...</td>\n",
              "      <td>\\n\\n\\n\\n\\n\\n00:00\\n\\n\\n\\n\\r\\n\\t\\t\\t Из Горьког...</td>\n",
              "      <td>Смотрите сегодня на телеканале \"Нижний Новгоро...</td>\n",
              "      <td>26</td>\n",
              "      <td>None</td>\n",
              "    </tr>\n",
              "    <tr>\n",
              "      <th>1</th>\n",
              "      <td>215643</td>\n",
              "      <td>\\n\\n\\n\\n\\n23:59\\n26.03.23\\n142\\n\\nПрограмма пе...</td>\n",
              "      <td>\\n\\n\\n\\n\\n\\n00:00\\n\\n\\n\\n\\r\\n\\t\\t\\t Из Горьког...</td>\n",
              "      <td>Смотрите сегодня на телеканале \"Нижний Новгоро...</td>\n",
              "      <td>26</td>\n",
              "      <td>None</td>\n",
              "    </tr>\n",
              "    <tr>\n",
              "      <th>2</th>\n",
              "      <td>215702</td>\n",
              "      <td>\\n\\n\\n\\n\\n18:00\\n26.03.23\\n280\\n\\nРоспотребнад...</td>\n",
              "      <td>\\n\\r\\n\\t Управление Роспотребнадзора усилило с...</td>\n",
              "      <td>Усилен контроль за качеством воды из крана</td>\n",
              "      <td>26</td>\n",
              "      <td>None</td>\n",
              "    </tr>\n",
              "    <tr>\n",
              "      <th>3</th>\n",
              "      <td>215701</td>\n",
              "      <td>\\n\\n\\n\\n\\n17:00\\n26.03.23\\n281\\n\\nДва трамвая ...</td>\n",
              "      <td>\\n\\r\\n\\t Два трамвая \"МиНиН\" сегодня вышел по ...</td>\n",
              "      <td>Пополнения трамвайного парка в ближайшее время...</td>\n",
              "      <td>26</td>\n",
              "      <td>None</td>\n",
              "    </tr>\n",
              "    <tr>\n",
              "      <th>4</th>\n",
              "      <td>215700</td>\n",
              "      <td>\\n\\n\\n\\n\\n16:30\\n26.03.23\\n331\\n\\nМЧС сообщает...</td>\n",
              "      <td>\\n\\n                    Весенний паводок начал...</td>\n",
              "      <td>Затопление произошло на 4-х участках в регионе...</td>\n",
              "      <td>26</td>\n",
              "      <td>None</td>\n",
              "    </tr>\n",
              "    <tr>\n",
              "      <th>...</th>\n",
              "      <td>...</td>\n",
              "      <td>...</td>\n",
              "      <td>...</td>\n",
              "      <td>...</td>\n",
              "      <td>...</td>\n",
              "      <td>...</td>\n",
              "    </tr>\n",
              "    <tr>\n",
              "      <th>164</th>\n",
              "      <td>215624</td>\n",
              "      <td>\\n\\n\\n\\n\\n13:26\\n24.03.23\\n470\\n\\n7 партию гум...</td>\n",
              "      <td>\\n\\n                    Заключительная в этом ...</td>\n",
              "      <td>62 тонны гуманитарной помощи собрали и отправи...</td>\n",
              "      <td>24</td>\n",
              "      <td>https://vestinn.ru/news/vesti/215624/</td>\n",
              "    </tr>\n",
              "    <tr>\n",
              "      <th>165</th>\n",
              "      <td>215635</td>\n",
              "      <td>\\n\\n\\n\\n\\n12:35\\n24.03.23\\n688\\n\\nСамая дорога...</td>\n",
              "      <td>\\n\\n                    Первое место в рейтинг...</td>\n",
              "      <td>Квартира расположена недалеко от Нижегородског...</td>\n",
              "      <td>24</td>\n",
              "      <td>https://vestinn.ru/news/society/215635/</td>\n",
              "    </tr>\n",
              "    <tr>\n",
              "      <th>166</th>\n",
              "      <td>215375</td>\n",
              "      <td>\\n\\n\\n\\n\\n12:28\\n24.03.23\\n63156\\n\\nНародные п...</td>\n",
              "      <td>\\n\\n                    Феофан жил на рубеже V...</td>\n",
              "      <td>Верующие 25 марта вспоминают Феофана Исповедни...</td>\n",
              "      <td>24</td>\n",
              "      <td>https://vestinn.ru/news/vesti/215375/</td>\n",
              "    </tr>\n",
              "    <tr>\n",
              "      <th>167</th>\n",
              "      <td>215638</td>\n",
              "      <td>\\n\\n\\n\\n\\n12:00\\n24.03.23\\n593\\n\\nКовид обнару...</td>\n",
              "      <td>\\n\\n                    В Нижегородской област...</td>\n",
              "      <td>Летальных случаев за сутки не было с 20 марта.</td>\n",
              "      <td>24</td>\n",
              "      <td>https://vestinn.ru/news/health/215638/</td>\n",
              "    </tr>\n",
              "    <tr>\n",
              "      <th>168</th>\n",
              "      <td>215614</td>\n",
              "      <td>\\n\\n\\n\\n\\n11:31\\n24.03.23\\n610\\n\\n\"Вести-Приво...</td>\n",
              "      <td>\\n\\n                    Товарный поезд сошел с...</td>\n",
              "      <td>Журналисты программы \"Вести-Приволжье\" и ведущ...</td>\n",
              "      <td>24</td>\n",
              "      <td>https://vestinn.ru/news/vesti/215614/</td>\n",
              "    </tr>\n",
              "  </tbody>\n",
              "</table>\n",
              "<p>169 rows × 6 columns</p>\n",
              "</div>\n",
              "      <button class=\"colab-df-convert\" onclick=\"convertToInteractive('df-95d8f8d5-45f6-420f-bf57-4d4895f27b76')\"\n",
              "              title=\"Convert this dataframe to an interactive table.\"\n",
              "              style=\"display:none;\">\n",
              "        \n",
              "  <svg xmlns=\"http://www.w3.org/2000/svg\" height=\"24px\"viewBox=\"0 0 24 24\"\n",
              "       width=\"24px\">\n",
              "    <path d=\"M0 0h24v24H0V0z\" fill=\"none\"/>\n",
              "    <path d=\"M18.56 5.44l.94 2.06.94-2.06 2.06-.94-2.06-.94-.94-2.06-.94 2.06-2.06.94zm-11 1L8.5 8.5l.94-2.06 2.06-.94-2.06-.94L8.5 2.5l-.94 2.06-2.06.94zm10 10l.94 2.06.94-2.06 2.06-.94-2.06-.94-.94-2.06-.94 2.06-2.06.94z\"/><path d=\"M17.41 7.96l-1.37-1.37c-.4-.4-.92-.59-1.43-.59-.52 0-1.04.2-1.43.59L10.3 9.45l-7.72 7.72c-.78.78-.78 2.05 0 2.83L4 21.41c.39.39.9.59 1.41.59.51 0 1.02-.2 1.41-.59l7.78-7.78 2.81-2.81c.8-.78.8-2.07 0-2.86zM5.41 20L4 18.59l7.72-7.72 1.47 1.35L5.41 20z\"/>\n",
              "  </svg>\n",
              "      </button>\n",
              "      \n",
              "  <style>\n",
              "    .colab-df-container {\n",
              "      display:flex;\n",
              "      flex-wrap:wrap;\n",
              "      gap: 12px;\n",
              "    }\n",
              "\n",
              "    .colab-df-convert {\n",
              "      background-color: #E8F0FE;\n",
              "      border: none;\n",
              "      border-radius: 50%;\n",
              "      cursor: pointer;\n",
              "      display: none;\n",
              "      fill: #1967D2;\n",
              "      height: 32px;\n",
              "      padding: 0 0 0 0;\n",
              "      width: 32px;\n",
              "    }\n",
              "\n",
              "    .colab-df-convert:hover {\n",
              "      background-color: #E2EBFA;\n",
              "      box-shadow: 0px 1px 2px rgba(60, 64, 67, 0.3), 0px 1px 3px 1px rgba(60, 64, 67, 0.15);\n",
              "      fill: #174EA6;\n",
              "    }\n",
              "\n",
              "    [theme=dark] .colab-df-convert {\n",
              "      background-color: #3B4455;\n",
              "      fill: #D2E3FC;\n",
              "    }\n",
              "\n",
              "    [theme=dark] .colab-df-convert:hover {\n",
              "      background-color: #434B5C;\n",
              "      box-shadow: 0px 1px 3px 1px rgba(0, 0, 0, 0.15);\n",
              "      filter: drop-shadow(0px 1px 2px rgba(0, 0, 0, 0.3));\n",
              "      fill: #FFFFFF;\n",
              "    }\n",
              "  </style>\n",
              "\n",
              "      <script>\n",
              "        const buttonEl =\n",
              "          document.querySelector('#df-95d8f8d5-45f6-420f-bf57-4d4895f27b76 button.colab-df-convert');\n",
              "        buttonEl.style.display =\n",
              "          google.colab.kernel.accessAllowed ? 'block' : 'none';\n",
              "\n",
              "        async function convertToInteractive(key) {\n",
              "          const element = document.querySelector('#df-95d8f8d5-45f6-420f-bf57-4d4895f27b76');\n",
              "          const dataTable =\n",
              "            await google.colab.kernel.invokeFunction('convertToInteractive',\n",
              "                                                     [key], {});\n",
              "          if (!dataTable) return;\n",
              "\n",
              "          const docLinkHtml = 'Like what you see? Visit the ' +\n",
              "            '<a target=\"_blank\" href=https://colab.research.google.com/notebooks/data_table.ipynb>data table notebook</a>'\n",
              "            + ' to learn more about interactive tables.';\n",
              "          element.innerHTML = '';\n",
              "          dataTable['output_type'] = 'display_data';\n",
              "          await google.colab.output.renderOutput(dataTable, element);\n",
              "          const docLink = document.createElement('div');\n",
              "          docLink.innerHTML = docLinkHtml;\n",
              "          element.appendChild(docLink);\n",
              "        }\n",
              "      </script>\n",
              "    </div>\n",
              "  </div>\n",
              "  "
            ]
          },
          "metadata": {},
          "execution_count": 53
        }
      ]
    },
    {
      "cell_type": "code",
      "source": [
        "#случайная новость\n",
        "df['full_text'].sample(random_state=1)"
      ],
      "metadata": {
        "colab": {
          "base_uri": "https://localhost:8080/"
        },
        "id": "vo_rLMkXyWjV",
        "outputId": "1e79a675-0f1c-4f61-e30e-79ddb993b1b6"
      },
      "execution_count": 54,
      "outputs": [
        {
          "output_type": "execute_result",
          "data": {
            "text/plain": [
              "48    \\n\\n                    Товарный поезд сошел с...\n",
              "Name: full_text, dtype: object"
            ]
          },
          "metadata": {},
          "execution_count": 54
        }
      ]
    },
    {
      "cell_type": "code",
      "source": [
        "list_of_texts = df[['title','full_text']].values.tolist()"
      ],
      "metadata": {
        "id": "EARtk2yyylhP"
      },
      "execution_count": 55,
      "outputs": []
    },
    {
      "cell_type": "code",
      "source": [
        "#САМЫЕ ПОПУЛЯРНЫЕ НОВОСТИ. ИТОГ\n",
        "current_month = time.strftime(\"%m\")\n",
        "popular_news = \"\"\"\n",
        "SELECT texts.news_id, title, views_news, pub_month, link\n",
        "    FROM texts\n",
        "        JOIN views ON texts.news_id = views.news_id\n",
        "        WHERE pub_month = ?\n",
        "        GROUP BY title\n",
        "        ORDER BY views_news DESC\n",
        "        LIMIT 3;\n",
        "\"\"\"\n",
        "cur.execute(popular_news, (current_month,))\n",
        "df = pd.read_sql_query(popular_news, params=[current_month], con=con)\n",
        "\n",
        "print(\"Топ-3 самых популярных новостей за текущий месяц:\")\n",
        "for i, row in df.iterrows(): #перебираю строки в df \n",
        "    popular =\"{}. {} ({})\".format(i+1, row['title'], row['link'])\n",
        "    print(popular)"
      ],
      "metadata": {
        "colab": {
          "base_uri": "https://localhost:8080/"
        },
        "id": "kdXlXKpstx0B",
        "outputId": "963495b7-f79c-4d62-b2b4-ed8adcd00a99"
      },
      "execution_count": 49,
      "outputs": [
        {
          "output_type": "stream",
          "name": "stdout",
          "text": [
            "Топ-3 самых популярных новостей за текущий месяц:\n",
            "1. \n",
            "\n",
            "\n",
            "\n",
            "\n",
            "12:28\n",
            "24.03.23\n",
            "63156\n",
            "\n",
            "Народные приметы: 25 марта. Не делайте это в Феофанов день, если вам дорога семья\n",
            "\n",
            "\n",
            " (https://vestinn.ru/news/vesti/215375/)\n",
            "2. \n",
            "\n",
            "\n",
            "\n",
            "\n",
            "12:28\n",
            "24.03.23\n",
            "63155\n",
            "\n",
            "Народные приметы: 25 марта. Не делайте это в Феофанов день, если вам дорога семья\n",
            "\n",
            "\n",
            " (https://vestinn.ru/news/vesti/215375/)\n",
            "3. \n",
            "\n",
            "\n",
            "\n",
            "\n",
            "12:28\n",
            "24.03.23\n",
            "63152\n",
            "\n",
            "Народные приметы: 25 марта. Не делайте это в Феофанов день, если вам дорога семья\n",
            "\n",
            "\n",
            " (None)\n"
          ]
        }
      ]
    },
    {
      "cell_type": "code",
      "source": [
        "#Самый насыщенный новостями день\n",
        "current_month = time.strftime(\"%m\") \n",
        "fullest_day =\"\"\"\n",
        "SELECT count(pub_day) as cnt, pub_day, pub_month\n",
        "    FROM texts\n",
        "        WHERE pub_month = ?\n",
        "        GROUP BY pub_day\n",
        "        ORDER BY cnt DESC\n",
        "        LIMIT 30;\n",
        "\"\"\"\n",
        "cur.execute(fullest_day, (current_month, ))\n",
        "cur.fetchall()\n",
        "\n",
        "df = pd.read_sql_query(fullest_day, params = [current_month], con=con)\n",
        "df"
      ],
      "metadata": {
        "colab": {
          "base_uri": "https://localhost:8080/",
          "height": 175
        },
        "id": "fCtoAsrDx9BQ",
        "outputId": "1d1c2767-0dbb-4de3-906a-4ae9a28f8b35"
      },
      "execution_count": 50,
      "outputs": [
        {
          "output_type": "execute_result",
          "data": {
            "text/plain": [
              "   cnt  pub_day  pub_month\n",
              "0   73       24          3\n",
              "1   45       25          3\n",
              "2   34       26          3\n",
              "3   17       23          3"
            ],
            "text/html": [
              "\n",
              "  <div id=\"df-c7eb2d09-c8d6-4a14-bb66-9401148477ce\">\n",
              "    <div class=\"colab-df-container\">\n",
              "      <div>\n",
              "<style scoped>\n",
              "    .dataframe tbody tr th:only-of-type {\n",
              "        vertical-align: middle;\n",
              "    }\n",
              "\n",
              "    .dataframe tbody tr th {\n",
              "        vertical-align: top;\n",
              "    }\n",
              "\n",
              "    .dataframe thead th {\n",
              "        text-align: right;\n",
              "    }\n",
              "</style>\n",
              "<table border=\"1\" class=\"dataframe\">\n",
              "  <thead>\n",
              "    <tr style=\"text-align: right;\">\n",
              "      <th></th>\n",
              "      <th>cnt</th>\n",
              "      <th>pub_day</th>\n",
              "      <th>pub_month</th>\n",
              "    </tr>\n",
              "  </thead>\n",
              "  <tbody>\n",
              "    <tr>\n",
              "      <th>0</th>\n",
              "      <td>73</td>\n",
              "      <td>24</td>\n",
              "      <td>3</td>\n",
              "    </tr>\n",
              "    <tr>\n",
              "      <th>1</th>\n",
              "      <td>45</td>\n",
              "      <td>25</td>\n",
              "      <td>3</td>\n",
              "    </tr>\n",
              "    <tr>\n",
              "      <th>2</th>\n",
              "      <td>34</td>\n",
              "      <td>26</td>\n",
              "      <td>3</td>\n",
              "    </tr>\n",
              "    <tr>\n",
              "      <th>3</th>\n",
              "      <td>17</td>\n",
              "      <td>23</td>\n",
              "      <td>3</td>\n",
              "    </tr>\n",
              "  </tbody>\n",
              "</table>\n",
              "</div>\n",
              "      <button class=\"colab-df-convert\" onclick=\"convertToInteractive('df-c7eb2d09-c8d6-4a14-bb66-9401148477ce')\"\n",
              "              title=\"Convert this dataframe to an interactive table.\"\n",
              "              style=\"display:none;\">\n",
              "        \n",
              "  <svg xmlns=\"http://www.w3.org/2000/svg\" height=\"24px\"viewBox=\"0 0 24 24\"\n",
              "       width=\"24px\">\n",
              "    <path d=\"M0 0h24v24H0V0z\" fill=\"none\"/>\n",
              "    <path d=\"M18.56 5.44l.94 2.06.94-2.06 2.06-.94-2.06-.94-.94-2.06-.94 2.06-2.06.94zm-11 1L8.5 8.5l.94-2.06 2.06-.94-2.06-.94L8.5 2.5l-.94 2.06-2.06.94zm10 10l.94 2.06.94-2.06 2.06-.94-2.06-.94-.94-2.06-.94 2.06-2.06.94z\"/><path d=\"M17.41 7.96l-1.37-1.37c-.4-.4-.92-.59-1.43-.59-.52 0-1.04.2-1.43.59L10.3 9.45l-7.72 7.72c-.78.78-.78 2.05 0 2.83L4 21.41c.39.39.9.59 1.41.59.51 0 1.02-.2 1.41-.59l7.78-7.78 2.81-2.81c.8-.78.8-2.07 0-2.86zM5.41 20L4 18.59l7.72-7.72 1.47 1.35L5.41 20z\"/>\n",
              "  </svg>\n",
              "      </button>\n",
              "      \n",
              "  <style>\n",
              "    .colab-df-container {\n",
              "      display:flex;\n",
              "      flex-wrap:wrap;\n",
              "      gap: 12px;\n",
              "    }\n",
              "\n",
              "    .colab-df-convert {\n",
              "      background-color: #E8F0FE;\n",
              "      border: none;\n",
              "      border-radius: 50%;\n",
              "      cursor: pointer;\n",
              "      display: none;\n",
              "      fill: #1967D2;\n",
              "      height: 32px;\n",
              "      padding: 0 0 0 0;\n",
              "      width: 32px;\n",
              "    }\n",
              "\n",
              "    .colab-df-convert:hover {\n",
              "      background-color: #E2EBFA;\n",
              "      box-shadow: 0px 1px 2px rgba(60, 64, 67, 0.3), 0px 1px 3px 1px rgba(60, 64, 67, 0.15);\n",
              "      fill: #174EA6;\n",
              "    }\n",
              "\n",
              "    [theme=dark] .colab-df-convert {\n",
              "      background-color: #3B4455;\n",
              "      fill: #D2E3FC;\n",
              "    }\n",
              "\n",
              "    [theme=dark] .colab-df-convert:hover {\n",
              "      background-color: #434B5C;\n",
              "      box-shadow: 0px 1px 3px 1px rgba(0, 0, 0, 0.15);\n",
              "      filter: drop-shadow(0px 1px 2px rgba(0, 0, 0, 0.3));\n",
              "      fill: #FFFFFF;\n",
              "    }\n",
              "  </style>\n",
              "\n",
              "      <script>\n",
              "        const buttonEl =\n",
              "          document.querySelector('#df-c7eb2d09-c8d6-4a14-bb66-9401148477ce button.colab-df-convert');\n",
              "        buttonEl.style.display =\n",
              "          google.colab.kernel.accessAllowed ? 'block' : 'none';\n",
              "\n",
              "        async function convertToInteractive(key) {\n",
              "          const element = document.querySelector('#df-c7eb2d09-c8d6-4a14-bb66-9401148477ce');\n",
              "          const dataTable =\n",
              "            await google.colab.kernel.invokeFunction('convertToInteractive',\n",
              "                                                     [key], {});\n",
              "          if (!dataTable) return;\n",
              "\n",
              "          const docLinkHtml = 'Like what you see? Visit the ' +\n",
              "            '<a target=\"_blank\" href=https://colab.research.google.com/notebooks/data_table.ipynb>data table notebook</a>'\n",
              "            + ' to learn more about interactive tables.';\n",
              "          element.innerHTML = '';\n",
              "          dataTable['output_type'] = 'display_data';\n",
              "          await google.colab.output.renderOutput(dataTable, element);\n",
              "          const docLink = document.createElement('div');\n",
              "          docLink.innerHTML = docLinkHtml;\n",
              "          element.appendChild(docLink);\n",
              "        }\n",
              "      </script>\n",
              "    </div>\n",
              "  </div>\n",
              "  "
            ]
          },
          "metadata": {},
          "execution_count": 50
        }
      ]
    },
    {
      "cell_type": "code",
      "source": [
        "#Самый насыщенный новостями день + график\n",
        "from matplotlib import pyplot as plt\n",
        "current_month = time.strftime(\"%m\") \n",
        "fullest_day =\"\"\"\n",
        "SELECT count(pub_day) as cnt, pub_day, pub_month\n",
        "    FROM texts\n",
        "        WHERE pub_month = ?\n",
        "        GROUP BY pub_day\n",
        "        ORDER BY cnt DESC\n",
        "        LIMIT 30;\n",
        "\"\"\"\n",
        "cur.execute(fullest_day, (current_month, ))\n",
        "cur.fetchall()\n",
        "\n",
        "df = pd.read_sql_query(fullest_day, params = [current_month], con=con)\n",
        "df.plot(x = \"pub_day\", y = \"cnt\", color='mediumseagreen', marker='o', label='День публикации')\n",
        "plt.locator_params (axis='x') \n",
        "plt.locator_params (axis='y')      \n",
        "plt.title('Соотношение количества новостей по дням')   \n",
        "plt.xlabel('День публикации')   \n",
        "plt.ylabel('Кол-во новостей')   \n",
        "# plt.show()   \n",
        "fullest_day_img = plt.savefig('fullest_day.png', facecolor = 'lightgrey') #сохраняем как картинку\n",
        "plt.show()\n",
        "img_to_user = open('fullest_day.png', 'rb')\n",
        "# bot.send_photo(message.chat.id, img_to_user)"
      ],
      "metadata": {
        "colab": {
          "base_uri": "https://localhost:8080/",
          "height": 295
        },
        "id": "PwOxMlyIyREo",
        "outputId": "6444feb5-6645-4e8a-d891-da177d3ec31a"
      },
      "execution_count": 51,
      "outputs": [
        {
          "output_type": "display_data",
          "data": {
            "text/plain": [
              "<Figure size 432x288 with 1 Axes>"
            ],
            "image/png": "[encoded data removed]"
          },
          "metadata": {
            "needs_background": "light"
          }
        }
      ]
    },
    {
      "cell_type": "markdown",
      "source": [
        "##Аналитика"
      ],
      "metadata": {
        "id": "weqzBVAcyr0f"
      }
    },
    {
      "cell_type": "code",
      "source": [
        "import gensim\n",
        "import logging\n",
        "import urllib.request\n",
        "import warnings\n",
        "warnings.filterwarnings('ignore')"
      ],
      "metadata": {
        "id": "NkslxTI3yeVG"
      },
      "execution_count": 56,
      "outputs": []
    },
    {
      "cell_type": "code",
      "source": [
        "from nltk.corpus import stopwords\n",
        "from sklearn.feature_extraction.text import TfidfVectorizer\n",
        "from nltk.tokenize import wordpunct_tokenize\n",
        "!pip install pymorphy2\n",
        "from pymorphy2 import MorphAnalyzer\n",
        "morph = MorphAnalyzer()\n",
        "import nltk\n",
        "nltk.download('stopwords')\n",
        "stops = stopwords.words(\"russian\")\n",
        "\n",
        "tfidf = TfidfVectorizer(\n",
        "    analyzer=\"word\",\n",
        "    stop_words=stops, ngram_range=(1,3),min_df=3 \n",
        ")"
      ],
      "metadata": {
        "id": "kz2H0VUDyvn0"
      },
      "execution_count": null,
      "outputs": []
    },
    {
      "cell_type": "code",
      "execution_count": 58,
      "metadata": {
        "colab": {
          "base_uri": "https://localhost:8080/"
        },
        "id": "OiCY4vvj7gNY",
        "outputId": "f10d730c-22fb-428d-e471-70f95bcfbe1f"
      },
      "outputs": [
        {
          "output_type": "stream",
          "name": "stdout",
          "text": [
            "Матрица на 169 документов и 11383 термов\n"
          ]
        }
      ],
      "source": [
        "articles_preprocessed = []\n",
        "for a_text in list_of_texts:\n",
        "    a_tokens = wordpunct_tokenize(a_text[1])\n",
        "    a_lemmatized = \" \".join([morph.parse(item)[0].normal_form for item in a_tokens])\n",
        "    articles_preprocessed.append(a_lemmatized)\n",
        "articles_tfidf = tfidf.fit_transform(articles_preprocessed)\n",
        "print(f\"Матрица на {articles_tfidf.shape[0]} документов и {articles_tfidf.shape[1]} термов\")"
      ]
    },
    {
      "cell_type": "code",
      "source": [
        "# ключевые слова для 3х новостей\n",
        "import numpy as np\n",
        "def get_top_tf_idf_words(tfidf_vector, feature_names, top_n):\n",
        "    sorted_nzs = np.argsort(tfidf_vector.data)[:-(top_n+1):-1]\n",
        "    return feature_names[tfidf_vector.indices[sorted_nzs]]\n",
        "feature_names = np.array(tfidf.get_feature_names_out())\n",
        "\n",
        "for i, article in enumerate(list_of_texts[:3]):\n",
        "    if i <= 1830:\n",
        "        article_vector = articles_tfidf[i, :]\n",
        "        words = get_top_tf_idf_words(article_vector, feature_names, 10)\n",
        "        print(article[0])\n",
        "        print(words)  "
      ],
      "metadata": {
        "colab": {
          "base_uri": "https://localhost:8080/"
        },
        "id": "ROZvbl6xy3c4",
        "outputId": "66d58f5c-f6ed-4768-a651-4ac8aed39dac"
      },
      "execution_count": 59,
      "outputs": [
        {
          "output_type": "stream",
          "name": "stdout",
          "text": [
            "\n",
            "\n",
            "\n",
            "\n",
            "\n",
            "23:59\n",
            "26.03.23\n",
            "141\n",
            "\n",
            "Программа передач телеканала “Нижний Новгород 24” на 27 марта\n",
            "\n",
            "\n",
            "\n",
            "['16' 'вести' '00' '50' 'цикл' '10' 'показывать радио'\n",
            " 'документальный фильм' 'говорить показывать радио' 'радио']\n",
            "\n",
            "\n",
            "\n",
            "\n",
            "\n",
            "23:59\n",
            "26.03.23\n",
            "142\n",
            "\n",
            "Программа передач телеканала “Нижний Новгород 24” на 27 марта\n",
            "\n",
            "\n",
            "\n",
            "['16' 'вести' '00' '50' 'цикл' '10' 'показывать радио'\n",
            " 'документальный фильм' 'говорить показывать радио' 'радио']\n",
            "\n",
            "\n",
            "\n",
            "\n",
            "\n",
            "18:00\n",
            "26.03.23\n",
            "280\n",
            "\n",
            "Роспотребнадзор усилил мониторинг территорий, на которых возможен паводок\n",
            "\n",
            "\n",
            "\n",
            "['контроль' 'усильный' 'усильный контроль' 'находиться'\n",
            " 'подтопление фото unsplash' 'нефтебаза который' 'находиться зона'\n",
            " 'зона подтопление' 'подтопление фото' 'недопущение распространение']\n"
          ]
        }
      ]
    },
    {
      "cell_type": "markdown",
      "source": [
        "**Близость между векторами текстов, три похожих**"
      ],
      "metadata": {
        "id": "EU5kGYRMy8nu"
      }
    },
    {
      "cell_type": "code",
      "source": [
        "from sklearn.metrics.pairwise import cosine_similarity\n",
        "listofsimil=[]\n",
        "listofsimil1=[]\n",
        "listofsimil2=[]\n",
        "print('Тексты, для которых находят похожие тексты:',list_of_texts[0][0])\n",
        "for d in cosine_similarity(articles_tfidf[0], articles_tfidf).flatten().argsort()[:-4:-1]:\n",
        "    listofsimil.append(list_of_texts[d][0])\n",
        "print('Тексты:')\n",
        "for i in listofsimil:\n",
        "    print('\\n'+(str(i)))"
      ],
      "metadata": {
        "colab": {
          "base_uri": "https://localhost:8080/"
        },
        "id": "EkGenBhwy_3s",
        "outputId": "8d3437b2-5cb3-4cef-84f9-805534caa285"
      },
      "execution_count": 70,
      "outputs": [
        {
          "output_type": "stream",
          "name": "stdout",
          "text": [
            "Тексты, для которых находят похожие тексты: \n",
            "\n",
            "\n",
            "\n",
            "\n",
            "23:59\n",
            "26.03.23\n",
            "141\n",
            "\n",
            "Программа передач телеканала “Нижний Новгород 24” на 27 марта\n",
            "\n",
            "\n",
            "\n",
            "Тексты:\n",
            "\n",
            "\n",
            "\n",
            "\n",
            "\n",
            "\n",
            "23:59\n",
            "26.03.23\n",
            "141\n",
            "\n",
            "Программа передач телеканала “Нижний Новгород 24” на 27 марта\n",
            "\n",
            "\n",
            "\n",
            "\n",
            "\n",
            "\n",
            "\n",
            "\n",
            "\n",
            "23:59\n",
            "26.03.23\n",
            "142\n",
            "\n",
            "Программа передач телеканала “Нижний Новгород 24” на 27 марта\n",
            "\n",
            "\n",
            "\n",
            "\n",
            "\n",
            "\n",
            "\n",
            "\n",
            "\n",
            "23:59\n",
            "26.03.23\n",
            "143\n",
            "\n",
            "Программа передач телеканала “Нижний Новгород 24” на 27 марта\n",
            "\n",
            "\n",
            "\n"
          ]
        }
      ]
    },
    {
      "cell_type": "markdown",
      "source": [
        "##Таймер"
      ],
      "metadata": {
        "id": "ptje00i4zvlo"
      }
    },
    {
      "cell_type": "code",
      "source": [
        "import schedule\n",
        "import datetime\n",
        "import pytz\n",
        "import time\n",
        "import requests\n",
        "import pandas as pd\n",
        "import requests\n",
        "from pprint import pprint\n",
        "# !pip install fake_useragent\n",
        "from fake_useragent import UserAgent\n",
        "session = requests.session()\n",
        "import time\n",
        "from datetime import datetime\n",
        "ua = UserAgent(verify_ssl=False)\n",
        "headers = {'User-Agent': ua.random}\n",
        "\n",
        "import sqlite3\n",
        "from bs4 import BeautifulSoup\n",
        "import re\n",
        "def crawler():\n",
        "    conn = sqlite3.connect('news.db')\n",
        "    cur = conn.cursor()\n",
        "    cur.execute(\"\"\"\n",
        "    CREATE TABLE IF NOT EXISTS texts \n",
        "    (id INTEGER PRIMARY KEY AUTOINCREMENT, news_id int, pub_year int, pub_month int, \n",
        "    pub_day int, title text, short_text text, full_text text, link text)\n",
        "    \"\"\")\n",
        "    #тэги\n",
        "    cur.execute(\"\"\"\n",
        "    CREATE TABLE IF NOT EXISTS tags_names\n",
        "    (id int PRIMARY KEY, news_id int, tags text) \n",
        "    \"\"\")\n",
        "    #просмотры\n",
        "    cur.execute(\"\"\"\n",
        "    CREATE TABLE IF NOT EXISTS views \n",
        "    (id int PRIMARY KEY, news_id int, views_news int) \n",
        "    \"\"\")\n",
        "\n",
        "\n",
        "    conn.commit()\n",
        "    conn.close()\n",
        "    #страница со списком новостей \n",
        "    def parse_news_page_block(one_block):\n",
        "        block = {}\n",
        "        a = one_block.find('a')\n",
        "        block['title'] = str(a.text)\n",
        "        block['href'] = a.attrs['href']\n",
        "        block['views_news'] = int(one_block.find('div', {'class':\"news__views\"}).text)\n",
        "        block['pub_day'] = int(one_block.find('div', {'class':\"news__date\"}).text[:2])\n",
        "        block['pub_month'] = int(one_block.find('div', {'class':\"news__date\"}).text[3:5])\n",
        "        block['pub_year'] = int(one_block.find('div', {'class':\"news__date\"}).text[6:8])\n",
        "        return block\n",
        "    #страница одной новости \n",
        "    def parse_one_article(block):\n",
        "        url_one = 'https://vestinn.ru' + block['href']\n",
        "        block['link'] = 'https://vestinn.ru' + block['href']\n",
        "        block['page_id'] = int(block['href'].split('/')[-2])\n",
        "        req = session.get(url_one, headers={'User-Agent': ua.random})\n",
        "        page = req.text\n",
        "        soup = BeautifulSoup(page, 'html.parser')\n",
        "        block['full_text'] = str(soup.find('div', {'class':\"readMore__content ellipsis__text\"}).text)\n",
        "        t = soup.find('div',{'class':\"tags_list\"})\n",
        "        block['tags'] = str(t.find('a').text)\n",
        "        short = soup.find('meta', {'property':'og:description'}).get('content')\n",
        "        cleantext = re.compile('<.*?>|&([a-z0-9]+|#[0-9]{1,6}|#x[0-9a-f]{1,6});')\n",
        "        block['short_text'] = str(re.sub(cleantext, '', short))\n",
        "        block['date'] = str(soup.find('meta',{'itemprop':\"datePublished\"}).get('datetime'))\n",
        "        return block\n",
        "\n",
        "    #Обработать N-ую страницу новостей\n",
        "    def get_nth_page(page_number):\n",
        "        # скачиваем\n",
        "        url = f'https://vestinn.ru/news/?PAGEN_1={page_number}'\n",
        "\n",
        "        req = session.get(url, headers={'User-Agent': ua.random})\n",
        "        page = req.text\n",
        "        soup = BeautifulSoup(page, 'html.parser')\n",
        "        \n",
        "        # находим новости\n",
        "        news = soup.find_all('div', {'class': 'news'})\n",
        "        \n",
        "        \n",
        "        # идем по новостям и обрабатываем их\n",
        "        blocks = []\n",
        "        for n in news:\n",
        "            try:\n",
        "                blocks.append(parse_news_page_block(n))\n",
        "            except Exception as e:\n",
        "                print(e)\n",
        "\n",
        "        # идем по отдельным статьям и достаем информацию\n",
        "        result = []\n",
        "        for b in blocks:\n",
        "            if b['href'] not in seen_news:\n",
        "                    try:\n",
        "                        res = parse_one_article(b)\n",
        "                        res['news_id'] = b['page_id']\n",
        "                        result.append(res)\n",
        "                    except Exception as e:\n",
        "                        print(e)\n",
        "            else:\n",
        "                print('Seen', b['href'])\n",
        "        \n",
        "        # возвращаем найденную информацию\n",
        "        return result  \n",
        "    #Пишем в базу. \n",
        "    def write_to_db(block):\n",
        "          # сохраняем информацию по текстам\n",
        "        cur.execute(\n",
        "            \"\"\"\n",
        "            INSERT INTO texts \n",
        "                (news_id, title, pub_year, pub_month, pub_day, short_text, full_text, link) \n",
        "                VALUES (?, ?, ?, ?, ?, ?, ?, ?)\n",
        "            \"\"\", (\n",
        "                block['news_id'], block['title'], block['pub_year'], block['pub_month'], \n",
        "                block['pub_day'], block['short_text'], \n",
        "                block['full_text'], block['link'])\n",
        "        )\n",
        "        conn.commit()\n",
        "    #тэги\n",
        "        cur.execute(\n",
        "            \"\"\"\n",
        "            INSERT INTO tags_names\n",
        "                (news_id, tags)\n",
        "                VALUES (?, ?)\n",
        "            \"\"\", (\n",
        "                block['news_id'], block['tags'])\n",
        "        )    \n",
        "        conn.commit()\n",
        "    #просмотры\n",
        "        cur.execute(\n",
        "            \"\"\"\n",
        "            INSERT INTO views  \n",
        "                (news_id, views_news)\n",
        "                VALUES (?,?)\n",
        "            \"\"\", (\n",
        "                block['news_id'], block['views_news'])\n",
        "        )  \n",
        "        conn.commit()  \n",
        "        # добавляем, что такой id уже видели\n",
        "        seen_news.add(block['news_id'])  \n",
        " \n",
        "\n",
        "    from tqdm.auto import tqdm\n",
        "    conn = sqlite3.connect('news.db')\n",
        "    cur = conn.cursor()\n",
        "\n",
        "    cur.execute('SELECT news_id FROM texts')\n",
        "    seen_news = set(i[0] for i in cur.fetchall())\n",
        "\n",
        "    def run_all(n_pages):\n",
        "        for i in tqdm(range(n_pages)):\n",
        "            blocks = get_nth_page(i+1)\n",
        "            for block in blocks:\n",
        "                write_to_db(block)\n",
        "\n",
        "    run_all(30)\n",
        "\n",
        "def main(): #выставляем время, в которое будетт запускаться краулер \n",
        "        schedule.every().day.at(\"04:01\").do(crawler)\n",
        "        while True:\n",
        "            schedule.run_pending()\n",
        "            time.sleep(1)\n",
        "if __name__ == '__main__': #условие, где вызываем функцию\n",
        "    main()"
      ],
      "metadata": {
        "colab": {
          "base_uri": "https://localhost:8080/",
          "height": 500,
          "referenced_widgets": [
            "58d8794f85434dda832a89935ebd579d",
            "663623c8994947518908bcfdcb631a12",
            "64ae9595b3dd4959adcd8312e63c69f0",
            "7ea6a5d333684fc6b3a4ec0845c91b32",
            "387312e4aee64d56b68a80575b93b042",
            "3c9cab12f7f94c4d8d4f98601f7e24bb",
            "102584adea7342c78a69961ecf678dd8",
            "00e630c124294b8a81787c41af6e521a",
            "e6e0444f75044e5d949ae8e9d11ef8fb",
            "d3fa4a4b9692412ca1ccc6d68ca1e254",
            "1749af41bb8a4111947d67a9a407791d"
          ]
        },
        "id": "Bf3w8C7oegiQ",
        "outputId": "0850454e-654a-4630-817f-6a938d5e5544"
      },
      "execution_count": 6,
      "outputs": [
        {
          "output_type": "display_data",
          "data": {
            "text/plain": [
              "  0%|          | 0/30 [00:00<?, ?it/s]"
            ],
            "application/vnd.jupyter.widget-view+json": {
              "version_major": 2,
              "version_minor": 0,
              "model_id": "58d8794f85434dda832a89935ebd579d"
            }
          },
          "metadata": {}
        },
        {
          "output_type": "stream",
          "name": "stdout",
          "text": [
            "'NoneType' object has no attribute 'text'\n",
            "'NoneType' object has no attribute 'text'\n",
            "'NoneType' object has no attribute 'text'\n",
            "'NoneType' object has no attribute 'text'\n",
            "'NoneType' object has no attribute 'text'\n",
            "'NoneType' object has no attribute 'text'\n"
          ]
        },
        {
          "output_type": "error",
          "ename": "KeyboardInterrupt",
          "evalue": "ignored",
          "traceback": [
            "\u001b[0;31m---------------------------------------------------------------------------\u001b[0m",
            "\u001b[0;31mKeyboardInterrupt\u001b[0m                         Traceback (most recent call last)",
            "\u001b[0;32m<ipython-input-6-119b29798c72>\u001b[0m in \u001b[0;36m<module>\u001b[0;34m\u001b[0m\n\u001b[1;32m    163\u001b[0m             \u001b[0mtime\u001b[0m\u001b[0;34m.\u001b[0m\u001b[0msleep\u001b[0m\u001b[0;34m(\u001b[0m\u001b[0;36m1\u001b[0m\u001b[0;34m)\u001b[0m\u001b[0;34m\u001b[0m\u001b[0;34m\u001b[0m\u001b[0m\n\u001b[1;32m    164\u001b[0m \u001b[0;32mif\u001b[0m \u001b[0m__name__\u001b[0m \u001b[0;34m==\u001b[0m \u001b[0;34m'__main__'\u001b[0m\u001b[0;34m:\u001b[0m \u001b[0;31m#условие, где вызываем функцию\u001b[0m\u001b[0;34m\u001b[0m\u001b[0;34m\u001b[0m\u001b[0m\n\u001b[0;32m--> 165\u001b[0;31m     \u001b[0mmain\u001b[0m\u001b[0;34m(\u001b[0m\u001b[0;34m)\u001b[0m\u001b[0;34m\u001b[0m\u001b[0;34m\u001b[0m\u001b[0m\n\u001b[0m",
            "\u001b[0;32m<ipython-input-6-119b29798c72>\u001b[0m in \u001b[0;36mmain\u001b[0;34m()\u001b[0m\n\u001b[1;32m    160\u001b[0m         \u001b[0mschedule\u001b[0m\u001b[0;34m.\u001b[0m\u001b[0mevery\u001b[0m\u001b[0;34m(\u001b[0m\u001b[0;34m)\u001b[0m\u001b[0;34m.\u001b[0m\u001b[0mday\u001b[0m\u001b[0;34m.\u001b[0m\u001b[0mat\u001b[0m\u001b[0;34m(\u001b[0m\u001b[0;34m\"04:01\"\u001b[0m\u001b[0;34m)\u001b[0m\u001b[0;34m.\u001b[0m\u001b[0mdo\u001b[0m\u001b[0;34m(\u001b[0m\u001b[0mcrawler\u001b[0m\u001b[0;34m)\u001b[0m\u001b[0;34m\u001b[0m\u001b[0;34m\u001b[0m\u001b[0m\n\u001b[1;32m    161\u001b[0m         \u001b[0;32mwhile\u001b[0m \u001b[0;32mTrue\u001b[0m\u001b[0;34m:\u001b[0m\u001b[0;34m\u001b[0m\u001b[0;34m\u001b[0m\u001b[0m\n\u001b[0;32m--> 162\u001b[0;31m             \u001b[0mschedule\u001b[0m\u001b[0;34m.\u001b[0m\u001b[0mrun_pending\u001b[0m\u001b[0;34m(\u001b[0m\u001b[0;34m)\u001b[0m\u001b[0;34m\u001b[0m\u001b[0;34m\u001b[0m\u001b[0m\n\u001b[0m\u001b[1;32m    163\u001b[0m             \u001b[0mtime\u001b[0m\u001b[0;34m.\u001b[0m\u001b[0msleep\u001b[0m\u001b[0;34m(\u001b[0m\u001b[0;36m1\u001b[0m\u001b[0;34m)\u001b[0m\u001b[0;34m\u001b[0m\u001b[0;34m\u001b[0m\u001b[0m\n\u001b[1;32m    164\u001b[0m \u001b[0;32mif\u001b[0m \u001b[0m__name__\u001b[0m \u001b[0;34m==\u001b[0m \u001b[0;34m'__main__'\u001b[0m\u001b[0;34m:\u001b[0m \u001b[0;31m#условие, где вызываем функцию\u001b[0m\u001b[0;34m\u001b[0m\u001b[0;34m\u001b[0m\u001b[0m\n",
            "\u001b[0;32m/usr/local/lib/python3.9/dist-packages/schedule/__init__.py\u001b[0m in \u001b[0;36mrun_pending\u001b[0;34m()\u001b[0m\n\u001b[1;32m    778\u001b[0m     \u001b[0;34m:\u001b[0m\u001b[0mdata\u001b[0m\u001b[0;34m:\u001b[0m\u001b[0;31m`\u001b[0m\u001b[0mdefault\u001b[0m \u001b[0mscheduler\u001b[0m \u001b[0minstance\u001b[0m \u001b[0;34m<\u001b[0m\u001b[0mdefault_scheduler\u001b[0m\u001b[0;34m>\u001b[0m\u001b[0;31m`\u001b[0m\u001b[0;34m.\u001b[0m\u001b[0;34m\u001b[0m\u001b[0;34m\u001b[0m\u001b[0m\n\u001b[1;32m    779\u001b[0m     \"\"\"\n\u001b[0;32m--> 780\u001b[0;31m     \u001b[0mdefault_scheduler\u001b[0m\u001b[0;34m.\u001b[0m\u001b[0mrun_pending\u001b[0m\u001b[0;34m(\u001b[0m\u001b[0;34m)\u001b[0m\u001b[0;34m\u001b[0m\u001b[0;34m\u001b[0m\u001b[0m\n\u001b[0m\u001b[1;32m    781\u001b[0m \u001b[0;34m\u001b[0m\u001b[0m\n\u001b[1;32m    782\u001b[0m \u001b[0;34m\u001b[0m\u001b[0m\n",
            "\u001b[0;32m/usr/local/lib/python3.9/dist-packages/schedule/__init__.py\u001b[0m in \u001b[0;36mrun_pending\u001b[0;34m(self)\u001b[0m\n\u001b[1;32m     98\u001b[0m         \u001b[0mrunnable_jobs\u001b[0m \u001b[0;34m=\u001b[0m \u001b[0;34m(\u001b[0m\u001b[0mjob\u001b[0m \u001b[0;32mfor\u001b[0m \u001b[0mjob\u001b[0m \u001b[0;32min\u001b[0m \u001b[0mself\u001b[0m\u001b[0;34m.\u001b[0m\u001b[0mjobs\u001b[0m \u001b[0;32mif\u001b[0m \u001b[0mjob\u001b[0m\u001b[0;34m.\u001b[0m\u001b[0mshould_run\u001b[0m\u001b[0;34m)\u001b[0m\u001b[0;34m\u001b[0m\u001b[0;34m\u001b[0m\u001b[0m\n\u001b[1;32m     99\u001b[0m         \u001b[0;32mfor\u001b[0m \u001b[0mjob\u001b[0m \u001b[0;32min\u001b[0m \u001b[0msorted\u001b[0m\u001b[0;34m(\u001b[0m\u001b[0mrunnable_jobs\u001b[0m\u001b[0;34m)\u001b[0m\u001b[0;34m:\u001b[0m\u001b[0;34m\u001b[0m\u001b[0;34m\u001b[0m\u001b[0m\n\u001b[0;32m--> 100\u001b[0;31m             \u001b[0mself\u001b[0m\u001b[0;34m.\u001b[0m\u001b[0m_run_job\u001b[0m\u001b[0;34m(\u001b[0m\u001b[0mjob\u001b[0m\u001b[0;34m)\u001b[0m\u001b[0;34m\u001b[0m\u001b[0;34m\u001b[0m\u001b[0m\n\u001b[0m\u001b[1;32m    101\u001b[0m \u001b[0;34m\u001b[0m\u001b[0m\n\u001b[1;32m    102\u001b[0m     \u001b[0;32mdef\u001b[0m \u001b[0mrun_all\u001b[0m\u001b[0;34m(\u001b[0m\u001b[0mself\u001b[0m\u001b[0;34m,\u001b[0m \u001b[0mdelay_seconds\u001b[0m\u001b[0;34m:\u001b[0m \u001b[0mint\u001b[0m \u001b[0;34m=\u001b[0m \u001b[0;36m0\u001b[0m\u001b[0;34m)\u001b[0m \u001b[0;34m->\u001b[0m \u001b[0;32mNone\u001b[0m\u001b[0;34m:\u001b[0m\u001b[0;34m\u001b[0m\u001b[0;34m\u001b[0m\u001b[0m\n",
            "\u001b[0;32m/usr/local/lib/python3.9/dist-packages/schedule/__init__.py\u001b[0m in \u001b[0;36m_run_job\u001b[0;34m(self, job)\u001b[0m\n\u001b[1;32m    170\u001b[0m \u001b[0;34m\u001b[0m\u001b[0m\n\u001b[1;32m    171\u001b[0m     \u001b[0;32mdef\u001b[0m \u001b[0m_run_job\u001b[0m\u001b[0;34m(\u001b[0m\u001b[0mself\u001b[0m\u001b[0;34m,\u001b[0m \u001b[0mjob\u001b[0m\u001b[0;34m:\u001b[0m \u001b[0;34m\"Job\"\u001b[0m\u001b[0;34m)\u001b[0m \u001b[0;34m->\u001b[0m \u001b[0;32mNone\u001b[0m\u001b[0;34m:\u001b[0m\u001b[0;34m\u001b[0m\u001b[0;34m\u001b[0m\u001b[0m\n\u001b[0;32m--> 172\u001b[0;31m         \u001b[0mret\u001b[0m \u001b[0;34m=\u001b[0m \u001b[0mjob\u001b[0m\u001b[0;34m.\u001b[0m\u001b[0mrun\u001b[0m\u001b[0;34m(\u001b[0m\u001b[0;34m)\u001b[0m\u001b[0;34m\u001b[0m\u001b[0;34m\u001b[0m\u001b[0m\n\u001b[0m\u001b[1;32m    173\u001b[0m         \u001b[0;32mif\u001b[0m \u001b[0misinstance\u001b[0m\u001b[0;34m(\u001b[0m\u001b[0mret\u001b[0m\u001b[0;34m,\u001b[0m \u001b[0mCancelJob\u001b[0m\u001b[0;34m)\u001b[0m \u001b[0;32mor\u001b[0m \u001b[0mret\u001b[0m \u001b[0;32mis\u001b[0m \u001b[0mCancelJob\u001b[0m\u001b[0;34m:\u001b[0m\u001b[0;34m\u001b[0m\u001b[0;34m\u001b[0m\u001b[0m\n\u001b[1;32m    174\u001b[0m             \u001b[0mself\u001b[0m\u001b[0;34m.\u001b[0m\u001b[0mcancel_job\u001b[0m\u001b[0;34m(\u001b[0m\u001b[0mjob\u001b[0m\u001b[0;34m)\u001b[0m\u001b[0;34m\u001b[0m\u001b[0;34m\u001b[0m\u001b[0m\n",
            "\u001b[0;32m/usr/local/lib/python3.9/dist-packages/schedule/__init__.py\u001b[0m in \u001b[0;36mrun\u001b[0;34m(self)\u001b[0m\n\u001b[1;32m    659\u001b[0m \u001b[0;34m\u001b[0m\u001b[0m\n\u001b[1;32m    660\u001b[0m         \u001b[0mlogger\u001b[0m\u001b[0;34m.\u001b[0m\u001b[0mdebug\u001b[0m\u001b[0;34m(\u001b[0m\u001b[0;34m\"Running job %s\"\u001b[0m\u001b[0;34m,\u001b[0m \u001b[0mself\u001b[0m\u001b[0;34m)\u001b[0m\u001b[0;34m\u001b[0m\u001b[0;34m\u001b[0m\u001b[0m\n\u001b[0;32m--> 661\u001b[0;31m         \u001b[0mret\u001b[0m \u001b[0;34m=\u001b[0m \u001b[0mself\u001b[0m\u001b[0;34m.\u001b[0m\u001b[0mjob_func\u001b[0m\u001b[0;34m(\u001b[0m\u001b[0;34m)\u001b[0m\u001b[0;34m\u001b[0m\u001b[0;34m\u001b[0m\u001b[0m\n\u001b[0m\u001b[1;32m    662\u001b[0m         \u001b[0mself\u001b[0m\u001b[0;34m.\u001b[0m\u001b[0mlast_run\u001b[0m \u001b[0;34m=\u001b[0m \u001b[0mdatetime\u001b[0m\u001b[0;34m.\u001b[0m\u001b[0mdatetime\u001b[0m\u001b[0;34m.\u001b[0m\u001b[0mnow\u001b[0m\u001b[0;34m(\u001b[0m\u001b[0;34m)\u001b[0m\u001b[0;34m\u001b[0m\u001b[0;34m\u001b[0m\u001b[0m\n\u001b[1;32m    663\u001b[0m         \u001b[0mself\u001b[0m\u001b[0;34m.\u001b[0m\u001b[0m_schedule_next_run\u001b[0m\u001b[0;34m(\u001b[0m\u001b[0;34m)\u001b[0m\u001b[0;34m\u001b[0m\u001b[0;34m\u001b[0m\u001b[0m\n",
            "\u001b[0;32m<ipython-input-6-119b29798c72>\u001b[0m in \u001b[0;36mcrawler\u001b[0;34m()\u001b[0m\n\u001b[1;32m    155\u001b[0m                 \u001b[0mwrite_to_db\u001b[0m\u001b[0;34m(\u001b[0m\u001b[0mblock\u001b[0m\u001b[0;34m)\u001b[0m\u001b[0;34m\u001b[0m\u001b[0;34m\u001b[0m\u001b[0m\n\u001b[1;32m    156\u001b[0m \u001b[0;34m\u001b[0m\u001b[0m\n\u001b[0;32m--> 157\u001b[0;31m     \u001b[0mrun_all\u001b[0m\u001b[0;34m(\u001b[0m\u001b[0;36m30\u001b[0m\u001b[0;34m)\u001b[0m\u001b[0;34m\u001b[0m\u001b[0;34m\u001b[0m\u001b[0m\n\u001b[0m\u001b[1;32m    158\u001b[0m \u001b[0;34m\u001b[0m\u001b[0m\n\u001b[1;32m    159\u001b[0m \u001b[0;32mdef\u001b[0m \u001b[0mmain\u001b[0m\u001b[0;34m(\u001b[0m\u001b[0;34m)\u001b[0m\u001b[0;34m:\u001b[0m \u001b[0;31m#выставляем время, в которое будетт запускаться краулер\u001b[0m\u001b[0;34m\u001b[0m\u001b[0;34m\u001b[0m\u001b[0m\n",
            "\u001b[0;32m<ipython-input-6-119b29798c72>\u001b[0m in \u001b[0;36mrun_all\u001b[0;34m(n_pages)\u001b[0m\n\u001b[1;32m    151\u001b[0m     \u001b[0;32mdef\u001b[0m \u001b[0mrun_all\u001b[0m\u001b[0;34m(\u001b[0m\u001b[0mn_pages\u001b[0m\u001b[0;34m)\u001b[0m\u001b[0;34m:\u001b[0m\u001b[0;34m\u001b[0m\u001b[0;34m\u001b[0m\u001b[0m\n\u001b[1;32m    152\u001b[0m         \u001b[0;32mfor\u001b[0m \u001b[0mi\u001b[0m \u001b[0;32min\u001b[0m \u001b[0mtqdm\u001b[0m\u001b[0;34m(\u001b[0m\u001b[0mrange\u001b[0m\u001b[0;34m(\u001b[0m\u001b[0mn_pages\u001b[0m\u001b[0;34m)\u001b[0m\u001b[0;34m)\u001b[0m\u001b[0;34m:\u001b[0m\u001b[0;34m\u001b[0m\u001b[0;34m\u001b[0m\u001b[0m\n\u001b[0;32m--> 153\u001b[0;31m             \u001b[0mblocks\u001b[0m \u001b[0;34m=\u001b[0m \u001b[0mget_nth_page\u001b[0m\u001b[0;34m(\u001b[0m\u001b[0mi\u001b[0m\u001b[0;34m+\u001b[0m\u001b[0;36m1\u001b[0m\u001b[0;34m)\u001b[0m\u001b[0;34m\u001b[0m\u001b[0;34m\u001b[0m\u001b[0m\n\u001b[0m\u001b[1;32m    154\u001b[0m             \u001b[0;32mfor\u001b[0m \u001b[0mblock\u001b[0m \u001b[0;32min\u001b[0m \u001b[0mblocks\u001b[0m\u001b[0;34m:\u001b[0m\u001b[0;34m\u001b[0m\u001b[0;34m\u001b[0m\u001b[0m\n\u001b[1;32m    155\u001b[0m                 \u001b[0mwrite_to_db\u001b[0m\u001b[0;34m(\u001b[0m\u001b[0mblock\u001b[0m\u001b[0;34m)\u001b[0m\u001b[0;34m\u001b[0m\u001b[0;34m\u001b[0m\u001b[0m\n",
            "\u001b[0;32m<ipython-input-6-119b29798c72>\u001b[0m in \u001b[0;36mget_nth_page\u001b[0;34m(page_number)\u001b[0m\n\u001b[1;32m     94\u001b[0m             \u001b[0;32mif\u001b[0m \u001b[0mb\u001b[0m\u001b[0;34m[\u001b[0m\u001b[0;34m'href'\u001b[0m\u001b[0;34m]\u001b[0m \u001b[0;32mnot\u001b[0m \u001b[0;32min\u001b[0m \u001b[0mseen_news\u001b[0m\u001b[0;34m:\u001b[0m\u001b[0;34m\u001b[0m\u001b[0;34m\u001b[0m\u001b[0m\n\u001b[1;32m     95\u001b[0m                     \u001b[0;32mtry\u001b[0m\u001b[0;34m:\u001b[0m\u001b[0;34m\u001b[0m\u001b[0;34m\u001b[0m\u001b[0m\n\u001b[0;32m---> 96\u001b[0;31m                         \u001b[0mres\u001b[0m \u001b[0;34m=\u001b[0m \u001b[0mparse_one_article\u001b[0m\u001b[0;34m(\u001b[0m\u001b[0mb\u001b[0m\u001b[0;34m)\u001b[0m\u001b[0;34m\u001b[0m\u001b[0;34m\u001b[0m\u001b[0m\n\u001b[0m\u001b[1;32m     97\u001b[0m                         \u001b[0mres\u001b[0m\u001b[0;34m[\u001b[0m\u001b[0;34m'news_id'\u001b[0m\u001b[0;34m]\u001b[0m \u001b[0;34m=\u001b[0m \u001b[0mb\u001b[0m\u001b[0;34m[\u001b[0m\u001b[0;34m'page_id'\u001b[0m\u001b[0;34m]\u001b[0m\u001b[0;34m\u001b[0m\u001b[0;34m\u001b[0m\u001b[0m\n\u001b[1;32m     98\u001b[0m                         \u001b[0mresult\u001b[0m\u001b[0;34m.\u001b[0m\u001b[0mappend\u001b[0m\u001b[0;34m(\u001b[0m\u001b[0mres\u001b[0m\u001b[0;34m)\u001b[0m\u001b[0;34m\u001b[0m\u001b[0;34m\u001b[0m\u001b[0m\n",
            "\u001b[0;32m<ipython-input-6-119b29798c72>\u001b[0m in \u001b[0;36mparse_one_article\u001b[0;34m(block)\u001b[0m\n\u001b[1;32m     56\u001b[0m         \u001b[0mblock\u001b[0m\u001b[0;34m[\u001b[0m\u001b[0;34m'link'\u001b[0m\u001b[0;34m]\u001b[0m \u001b[0;34m=\u001b[0m \u001b[0;34m'https://vestinn.ru'\u001b[0m \u001b[0;34m+\u001b[0m \u001b[0mblock\u001b[0m\u001b[0;34m[\u001b[0m\u001b[0;34m'href'\u001b[0m\u001b[0;34m]\u001b[0m\u001b[0;34m\u001b[0m\u001b[0;34m\u001b[0m\u001b[0m\n\u001b[1;32m     57\u001b[0m         \u001b[0mblock\u001b[0m\u001b[0;34m[\u001b[0m\u001b[0;34m'page_id'\u001b[0m\u001b[0;34m]\u001b[0m \u001b[0;34m=\u001b[0m \u001b[0mint\u001b[0m\u001b[0;34m(\u001b[0m\u001b[0mblock\u001b[0m\u001b[0;34m[\u001b[0m\u001b[0;34m'href'\u001b[0m\u001b[0;34m]\u001b[0m\u001b[0;34m.\u001b[0m\u001b[0msplit\u001b[0m\u001b[0;34m(\u001b[0m\u001b[0;34m'/'\u001b[0m\u001b[0;34m)\u001b[0m\u001b[0;34m[\u001b[0m\u001b[0;34m-\u001b[0m\u001b[0;36m2\u001b[0m\u001b[0;34m]\u001b[0m\u001b[0;34m)\u001b[0m\u001b[0;34m\u001b[0m\u001b[0;34m\u001b[0m\u001b[0m\n\u001b[0;32m---> 58\u001b[0;31m         \u001b[0mreq\u001b[0m \u001b[0;34m=\u001b[0m \u001b[0msession\u001b[0m\u001b[0;34m.\u001b[0m\u001b[0mget\u001b[0m\u001b[0;34m(\u001b[0m\u001b[0murl_one\u001b[0m\u001b[0;34m,\u001b[0m \u001b[0mheaders\u001b[0m\u001b[0;34m=\u001b[0m\u001b[0;34m{\u001b[0m\u001b[0;34m'User-Agent'\u001b[0m\u001b[0;34m:\u001b[0m \u001b[0mua\u001b[0m\u001b[0;34m.\u001b[0m\u001b[0mrandom\u001b[0m\u001b[0;34m}\u001b[0m\u001b[0;34m)\u001b[0m\u001b[0;34m\u001b[0m\u001b[0;34m\u001b[0m\u001b[0m\n\u001b[0m\u001b[1;32m     59\u001b[0m         \u001b[0mpage\u001b[0m \u001b[0;34m=\u001b[0m \u001b[0mreq\u001b[0m\u001b[0;34m.\u001b[0m\u001b[0mtext\u001b[0m\u001b[0;34m\u001b[0m\u001b[0;34m\u001b[0m\u001b[0m\n\u001b[1;32m     60\u001b[0m         \u001b[0msoup\u001b[0m \u001b[0;34m=\u001b[0m \u001b[0mBeautifulSoup\u001b[0m\u001b[0;34m(\u001b[0m\u001b[0mpage\u001b[0m\u001b[0;34m,\u001b[0m \u001b[0;34m'html.parser'\u001b[0m\u001b[0;34m)\u001b[0m\u001b[0;34m\u001b[0m\u001b[0;34m\u001b[0m\u001b[0m\n",
            "\u001b[0;32m/usr/local/lib/python3.9/dist-packages/requests/sessions.py\u001b[0m in \u001b[0;36mget\u001b[0;34m(self, url, **kwargs)\u001b[0m\n\u001b[1;32m    540\u001b[0m \u001b[0;34m\u001b[0m\u001b[0m\n\u001b[1;32m    541\u001b[0m         \u001b[0mkwargs\u001b[0m\u001b[0;34m.\u001b[0m\u001b[0msetdefault\u001b[0m\u001b[0;34m(\u001b[0m\u001b[0;34m'allow_redirects'\u001b[0m\u001b[0;34m,\u001b[0m \u001b[0;32mTrue\u001b[0m\u001b[0;34m)\u001b[0m\u001b[0;34m\u001b[0m\u001b[0;34m\u001b[0m\u001b[0m\n\u001b[0;32m--> 542\u001b[0;31m         \u001b[0;32mreturn\u001b[0m \u001b[0mself\u001b[0m\u001b[0;34m.\u001b[0m\u001b[0mrequest\u001b[0m\u001b[0;34m(\u001b[0m\u001b[0;34m'GET'\u001b[0m\u001b[0;34m,\u001b[0m \u001b[0murl\u001b[0m\u001b[0;34m,\u001b[0m \u001b[0;34m**\u001b[0m\u001b[0mkwargs\u001b[0m\u001b[0;34m)\u001b[0m\u001b[0;34m\u001b[0m\u001b[0;34m\u001b[0m\u001b[0m\n\u001b[0m\u001b[1;32m    543\u001b[0m \u001b[0;34m\u001b[0m\u001b[0m\n\u001b[1;32m    544\u001b[0m     \u001b[0;32mdef\u001b[0m \u001b[0moptions\u001b[0m\u001b[0;34m(\u001b[0m\u001b[0mself\u001b[0m\u001b[0;34m,\u001b[0m \u001b[0murl\u001b[0m\u001b[0;34m,\u001b[0m \u001b[0;34m**\u001b[0m\u001b[0mkwargs\u001b[0m\u001b[0;34m)\u001b[0m\u001b[0;34m:\u001b[0m\u001b[0;34m\u001b[0m\u001b[0;34m\u001b[0m\u001b[0m\n",
            "\u001b[0;32m/usr/local/lib/python3.9/dist-packages/requests/sessions.py\u001b[0m in \u001b[0;36mrequest\u001b[0;34m(self, method, url, params, data, headers, cookies, files, auth, timeout, allow_redirects, proxies, hooks, stream, verify, cert, json)\u001b[0m\n\u001b[1;32m    527\u001b[0m         }\n\u001b[1;32m    528\u001b[0m         \u001b[0msend_kwargs\u001b[0m\u001b[0;34m.\u001b[0m\u001b[0mupdate\u001b[0m\u001b[0;34m(\u001b[0m\u001b[0msettings\u001b[0m\u001b[0;34m)\u001b[0m\u001b[0;34m\u001b[0m\u001b[0;34m\u001b[0m\u001b[0m\n\u001b[0;32m--> 529\u001b[0;31m         \u001b[0mresp\u001b[0m \u001b[0;34m=\u001b[0m \u001b[0mself\u001b[0m\u001b[0;34m.\u001b[0m\u001b[0msend\u001b[0m\u001b[0;34m(\u001b[0m\u001b[0mprep\u001b[0m\u001b[0;34m,\u001b[0m \u001b[0;34m**\u001b[0m\u001b[0msend_kwargs\u001b[0m\u001b[0;34m)\u001b[0m\u001b[0;34m\u001b[0m\u001b[0;34m\u001b[0m\u001b[0m\n\u001b[0m\u001b[1;32m    530\u001b[0m \u001b[0;34m\u001b[0m\u001b[0m\n\u001b[1;32m    531\u001b[0m         \u001b[0;32mreturn\u001b[0m \u001b[0mresp\u001b[0m\u001b[0;34m\u001b[0m\u001b[0;34m\u001b[0m\u001b[0m\n",
            "\u001b[0;32m/usr/local/lib/python3.9/dist-packages/requests/sessions.py\u001b[0m in \u001b[0;36msend\u001b[0;34m(self, request, **kwargs)\u001b[0m\n\u001b[1;32m    643\u001b[0m \u001b[0;34m\u001b[0m\u001b[0m\n\u001b[1;32m    644\u001b[0m         \u001b[0;31m# Send the request\u001b[0m\u001b[0;34m\u001b[0m\u001b[0;34m\u001b[0m\u001b[0m\n\u001b[0;32m--> 645\u001b[0;31m         \u001b[0mr\u001b[0m \u001b[0;34m=\u001b[0m \u001b[0madapter\u001b[0m\u001b[0;34m.\u001b[0m\u001b[0msend\u001b[0m\u001b[0;34m(\u001b[0m\u001b[0mrequest\u001b[0m\u001b[0;34m,\u001b[0m \u001b[0;34m**\u001b[0m\u001b[0mkwargs\u001b[0m\u001b[0;34m)\u001b[0m\u001b[0;34m\u001b[0m\u001b[0;34m\u001b[0m\u001b[0m\n\u001b[0m\u001b[1;32m    646\u001b[0m \u001b[0;34m\u001b[0m\u001b[0m\n\u001b[1;32m    647\u001b[0m         \u001b[0;31m# Total elapsed time of the request (approximately)\u001b[0m\u001b[0;34m\u001b[0m\u001b[0;34m\u001b[0m\u001b[0m\n",
            "\u001b[0;32m/usr/local/lib/python3.9/dist-packages/requests/adapters.py\u001b[0m in \u001b[0;36msend\u001b[0;34m(self, request, stream, timeout, verify, cert, proxies)\u001b[0m\n\u001b[1;32m    438\u001b[0m         \u001b[0;32mtry\u001b[0m\u001b[0;34m:\u001b[0m\u001b[0;34m\u001b[0m\u001b[0;34m\u001b[0m\u001b[0m\n\u001b[1;32m    439\u001b[0m             \u001b[0;32mif\u001b[0m \u001b[0;32mnot\u001b[0m \u001b[0mchunked\u001b[0m\u001b[0;34m:\u001b[0m\u001b[0;34m\u001b[0m\u001b[0;34m\u001b[0m\u001b[0m\n\u001b[0;32m--> 440\u001b[0;31m                 resp = conn.urlopen(\n\u001b[0m\u001b[1;32m    441\u001b[0m                     \u001b[0mmethod\u001b[0m\u001b[0;34m=\u001b[0m\u001b[0mrequest\u001b[0m\u001b[0;34m.\u001b[0m\u001b[0mmethod\u001b[0m\u001b[0;34m,\u001b[0m\u001b[0;34m\u001b[0m\u001b[0;34m\u001b[0m\u001b[0m\n\u001b[1;32m    442\u001b[0m                     \u001b[0murl\u001b[0m\u001b[0;34m=\u001b[0m\u001b[0murl\u001b[0m\u001b[0;34m,\u001b[0m\u001b[0;34m\u001b[0m\u001b[0;34m\u001b[0m\u001b[0m\n",
            "\u001b[0;32m/usr/local/lib/python3.9/dist-packages/urllib3/connectionpool.py\u001b[0m in \u001b[0;36murlopen\u001b[0;34m(self, method, url, body, headers, retries, redirect, assert_same_host, timeout, pool_timeout, release_conn, chunked, body_pos, **response_kw)\u001b[0m\n\u001b[1;32m    701\u001b[0m \u001b[0;34m\u001b[0m\u001b[0m\n\u001b[1;32m    702\u001b[0m             \u001b[0;31m# Make the request on the httplib connection object.\u001b[0m\u001b[0;34m\u001b[0m\u001b[0;34m\u001b[0m\u001b[0m\n\u001b[0;32m--> 703\u001b[0;31m             httplib_response = self._make_request(\n\u001b[0m\u001b[1;32m    704\u001b[0m                 \u001b[0mconn\u001b[0m\u001b[0;34m,\u001b[0m\u001b[0;34m\u001b[0m\u001b[0;34m\u001b[0m\u001b[0m\n\u001b[1;32m    705\u001b[0m                 \u001b[0mmethod\u001b[0m\u001b[0;34m,\u001b[0m\u001b[0;34m\u001b[0m\u001b[0;34m\u001b[0m\u001b[0m\n",
            "\u001b[0;32m/usr/local/lib/python3.9/dist-packages/urllib3/connectionpool.py\u001b[0m in \u001b[0;36m_make_request\u001b[0;34m(self, conn, method, url, timeout, chunked, **httplib_request_kw)\u001b[0m\n\u001b[1;32m    447\u001b[0m                     \u001b[0;31m# Python 3 (including for exceptions like SystemExit).\u001b[0m\u001b[0;34m\u001b[0m\u001b[0;34m\u001b[0m\u001b[0m\n\u001b[1;32m    448\u001b[0m                     \u001b[0;31m# Otherwise it looks like a bug in the code.\u001b[0m\u001b[0;34m\u001b[0m\u001b[0;34m\u001b[0m\u001b[0m\n\u001b[0;32m--> 449\u001b[0;31m                     \u001b[0msix\u001b[0m\u001b[0;34m.\u001b[0m\u001b[0mraise_from\u001b[0m\u001b[0;34m(\u001b[0m\u001b[0me\u001b[0m\u001b[0;34m,\u001b[0m \u001b[0;32mNone\u001b[0m\u001b[0;34m)\u001b[0m\u001b[0;34m\u001b[0m\u001b[0;34m\u001b[0m\u001b[0m\n\u001b[0m\u001b[1;32m    450\u001b[0m         \u001b[0;32mexcept\u001b[0m \u001b[0;34m(\u001b[0m\u001b[0mSocketTimeout\u001b[0m\u001b[0;34m,\u001b[0m \u001b[0mBaseSSLError\u001b[0m\u001b[0;34m,\u001b[0m \u001b[0mSocketError\u001b[0m\u001b[0;34m)\u001b[0m \u001b[0;32mas\u001b[0m \u001b[0me\u001b[0m\u001b[0;34m:\u001b[0m\u001b[0;34m\u001b[0m\u001b[0;34m\u001b[0m\u001b[0m\n\u001b[1;32m    451\u001b[0m             \u001b[0mself\u001b[0m\u001b[0;34m.\u001b[0m\u001b[0m_raise_timeout\u001b[0m\u001b[0;34m(\u001b[0m\u001b[0merr\u001b[0m\u001b[0;34m=\u001b[0m\u001b[0me\u001b[0m\u001b[0;34m,\u001b[0m \u001b[0murl\u001b[0m\u001b[0;34m=\u001b[0m\u001b[0murl\u001b[0m\u001b[0;34m,\u001b[0m \u001b[0mtimeout_value\u001b[0m\u001b[0;34m=\u001b[0m\u001b[0mread_timeout\u001b[0m\u001b[0;34m)\u001b[0m\u001b[0;34m\u001b[0m\u001b[0;34m\u001b[0m\u001b[0m\n",
            "\u001b[0;32m/usr/local/lib/python3.9/dist-packages/urllib3/packages/six.py\u001b[0m in \u001b[0;36mraise_from\u001b[0;34m(value, from_value)\u001b[0m\n",
            "\u001b[0;32m/usr/local/lib/python3.9/dist-packages/urllib3/connectionpool.py\u001b[0m in \u001b[0;36m_make_request\u001b[0;34m(self, conn, method, url, timeout, chunked, **httplib_request_kw)\u001b[0m\n\u001b[1;32m    442\u001b[0m                 \u001b[0;31m# Python 3\u001b[0m\u001b[0;34m\u001b[0m\u001b[0;34m\u001b[0m\u001b[0m\n\u001b[1;32m    443\u001b[0m                 \u001b[0;32mtry\u001b[0m\u001b[0;34m:\u001b[0m\u001b[0;34m\u001b[0m\u001b[0;34m\u001b[0m\u001b[0m\n\u001b[0;32m--> 444\u001b[0;31m                     \u001b[0mhttplib_response\u001b[0m \u001b[0;34m=\u001b[0m \u001b[0mconn\u001b[0m\u001b[0;34m.\u001b[0m\u001b[0mgetresponse\u001b[0m\u001b[0;34m(\u001b[0m\u001b[0;34m)\u001b[0m\u001b[0;34m\u001b[0m\u001b[0;34m\u001b[0m\u001b[0m\n\u001b[0m\u001b[1;32m    445\u001b[0m                 \u001b[0;32mexcept\u001b[0m \u001b[0mBaseException\u001b[0m \u001b[0;32mas\u001b[0m \u001b[0me\u001b[0m\u001b[0;34m:\u001b[0m\u001b[0;34m\u001b[0m\u001b[0;34m\u001b[0m\u001b[0m\n\u001b[1;32m    446\u001b[0m                     \u001b[0;31m# Remove the TypeError from the exception chain in\u001b[0m\u001b[0;34m\u001b[0m\u001b[0;34m\u001b[0m\u001b[0m\n",
            "\u001b[0;32m/usr/lib/python3.9/http/client.py\u001b[0m in \u001b[0;36mgetresponse\u001b[0;34m(self)\u001b[0m\n\u001b[1;32m   1375\u001b[0m         \u001b[0;32mtry\u001b[0m\u001b[0;34m:\u001b[0m\u001b[0;34m\u001b[0m\u001b[0;34m\u001b[0m\u001b[0m\n\u001b[1;32m   1376\u001b[0m             \u001b[0;32mtry\u001b[0m\u001b[0;34m:\u001b[0m\u001b[0;34m\u001b[0m\u001b[0;34m\u001b[0m\u001b[0m\n\u001b[0;32m-> 1377\u001b[0;31m                 \u001b[0mresponse\u001b[0m\u001b[0;34m.\u001b[0m\u001b[0mbegin\u001b[0m\u001b[0;34m(\u001b[0m\u001b[0;34m)\u001b[0m\u001b[0;34m\u001b[0m\u001b[0;34m\u001b[0m\u001b[0m\n\u001b[0m\u001b[1;32m   1378\u001b[0m             \u001b[0;32mexcept\u001b[0m \u001b[0mConnectionError\u001b[0m\u001b[0;34m:\u001b[0m\u001b[0;34m\u001b[0m\u001b[0;34m\u001b[0m\u001b[0m\n\u001b[1;32m   1379\u001b[0m                 \u001b[0mself\u001b[0m\u001b[0;34m.\u001b[0m\u001b[0mclose\u001b[0m\u001b[0;34m(\u001b[0m\u001b[0;34m)\u001b[0m\u001b[0;34m\u001b[0m\u001b[0;34m\u001b[0m\u001b[0m\n",
            "\u001b[0;32m/usr/lib/python3.9/http/client.py\u001b[0m in \u001b[0;36mbegin\u001b[0;34m(self)\u001b[0m\n\u001b[1;32m    318\u001b[0m         \u001b[0;31m# read until we get a non-100 response\u001b[0m\u001b[0;34m\u001b[0m\u001b[0;34m\u001b[0m\u001b[0m\n\u001b[1;32m    319\u001b[0m         \u001b[0;32mwhile\u001b[0m \u001b[0;32mTrue\u001b[0m\u001b[0;34m:\u001b[0m\u001b[0;34m\u001b[0m\u001b[0;34m\u001b[0m\u001b[0m\n\u001b[0;32m--> 320\u001b[0;31m             \u001b[0mversion\u001b[0m\u001b[0;34m,\u001b[0m \u001b[0mstatus\u001b[0m\u001b[0;34m,\u001b[0m \u001b[0mreason\u001b[0m \u001b[0;34m=\u001b[0m \u001b[0mself\u001b[0m\u001b[0;34m.\u001b[0m\u001b[0m_read_status\u001b[0m\u001b[0;34m(\u001b[0m\u001b[0;34m)\u001b[0m\u001b[0;34m\u001b[0m\u001b[0;34m\u001b[0m\u001b[0m\n\u001b[0m\u001b[1;32m    321\u001b[0m             \u001b[0;32mif\u001b[0m \u001b[0mstatus\u001b[0m \u001b[0;34m!=\u001b[0m \u001b[0mCONTINUE\u001b[0m\u001b[0;34m:\u001b[0m\u001b[0;34m\u001b[0m\u001b[0;34m\u001b[0m\u001b[0m\n\u001b[1;32m    322\u001b[0m                 \u001b[0;32mbreak\u001b[0m\u001b[0;34m\u001b[0m\u001b[0;34m\u001b[0m\u001b[0m\n",
            "\u001b[0;32m/usr/lib/python3.9/http/client.py\u001b[0m in \u001b[0;36m_read_status\u001b[0;34m(self)\u001b[0m\n\u001b[1;32m    279\u001b[0m \u001b[0;34m\u001b[0m\u001b[0m\n\u001b[1;32m    280\u001b[0m     \u001b[0;32mdef\u001b[0m \u001b[0m_read_status\u001b[0m\u001b[0;34m(\u001b[0m\u001b[0mself\u001b[0m\u001b[0;34m)\u001b[0m\u001b[0;34m:\u001b[0m\u001b[0;34m\u001b[0m\u001b[0;34m\u001b[0m\u001b[0m\n\u001b[0;32m--> 281\u001b[0;31m         \u001b[0mline\u001b[0m \u001b[0;34m=\u001b[0m \u001b[0mstr\u001b[0m\u001b[0;34m(\u001b[0m\u001b[0mself\u001b[0m\u001b[0;34m.\u001b[0m\u001b[0mfp\u001b[0m\u001b[0;34m.\u001b[0m\u001b[0mreadline\u001b[0m\u001b[0;34m(\u001b[0m\u001b[0m_MAXLINE\u001b[0m \u001b[0;34m+\u001b[0m \u001b[0;36m1\u001b[0m\u001b[0;34m)\u001b[0m\u001b[0;34m,\u001b[0m \u001b[0;34m\"iso-8859-1\"\u001b[0m\u001b[0;34m)\u001b[0m\u001b[0;34m\u001b[0m\u001b[0;34m\u001b[0m\u001b[0m\n\u001b[0m\u001b[1;32m    282\u001b[0m         \u001b[0;32mif\u001b[0m \u001b[0mlen\u001b[0m\u001b[0;34m(\u001b[0m\u001b[0mline\u001b[0m\u001b[0;34m)\u001b[0m \u001b[0;34m>\u001b[0m \u001b[0m_MAXLINE\u001b[0m\u001b[0;34m:\u001b[0m\u001b[0;34m\u001b[0m\u001b[0;34m\u001b[0m\u001b[0m\n\u001b[1;32m    283\u001b[0m             \u001b[0;32mraise\u001b[0m \u001b[0mLineTooLong\u001b[0m\u001b[0;34m(\u001b[0m\u001b[0;34m\"status line\"\u001b[0m\u001b[0;34m)\u001b[0m\u001b[0;34m\u001b[0m\u001b[0;34m\u001b[0m\u001b[0m\n",
            "\u001b[0;32m/usr/lib/python3.9/socket.py\u001b[0m in \u001b[0;36mreadinto\u001b[0;34m(self, b)\u001b[0m\n\u001b[1;32m    702\u001b[0m         \u001b[0;32mwhile\u001b[0m \u001b[0;32mTrue\u001b[0m\u001b[0;34m:\u001b[0m\u001b[0;34m\u001b[0m\u001b[0;34m\u001b[0m\u001b[0m\n\u001b[1;32m    703\u001b[0m             \u001b[0;32mtry\u001b[0m\u001b[0;34m:\u001b[0m\u001b[0;34m\u001b[0m\u001b[0;34m\u001b[0m\u001b[0m\n\u001b[0;32m--> 704\u001b[0;31m                 \u001b[0;32mreturn\u001b[0m \u001b[0mself\u001b[0m\u001b[0;34m.\u001b[0m\u001b[0m_sock\u001b[0m\u001b[0;34m.\u001b[0m\u001b[0mrecv_into\u001b[0m\u001b[0;34m(\u001b[0m\u001b[0mb\u001b[0m\u001b[0;34m)\u001b[0m\u001b[0;34m\u001b[0m\u001b[0;34m\u001b[0m\u001b[0m\n\u001b[0m\u001b[1;32m    705\u001b[0m             \u001b[0;32mexcept\u001b[0m \u001b[0mtimeout\u001b[0m\u001b[0;34m:\u001b[0m\u001b[0;34m\u001b[0m\u001b[0;34m\u001b[0m\u001b[0m\n\u001b[1;32m    706\u001b[0m                 \u001b[0mself\u001b[0m\u001b[0;34m.\u001b[0m\u001b[0m_timeout_occurred\u001b[0m \u001b[0;34m=\u001b[0m \u001b[0;32mTrue\u001b[0m\u001b[0;34m\u001b[0m\u001b[0;34m\u001b[0m\u001b[0m\n",
            "\u001b[0;32m/usr/lib/python3.9/ssl.py\u001b[0m in \u001b[0;36mrecv_into\u001b[0;34m(self, buffer, nbytes, flags)\u001b[0m\n\u001b[1;32m   1240\u001b[0m                   \u001b[0;34m\"non-zero flags not allowed in calls to recv_into() on %s\"\u001b[0m \u001b[0;34m%\u001b[0m\u001b[0;34m\u001b[0m\u001b[0;34m\u001b[0m\u001b[0m\n\u001b[1;32m   1241\u001b[0m                   self.__class__)\n\u001b[0;32m-> 1242\u001b[0;31m             \u001b[0;32mreturn\u001b[0m \u001b[0mself\u001b[0m\u001b[0;34m.\u001b[0m\u001b[0mread\u001b[0m\u001b[0;34m(\u001b[0m\u001b[0mnbytes\u001b[0m\u001b[0;34m,\u001b[0m \u001b[0mbuffer\u001b[0m\u001b[0;34m)\u001b[0m\u001b[0;34m\u001b[0m\u001b[0;34m\u001b[0m\u001b[0m\n\u001b[0m\u001b[1;32m   1243\u001b[0m         \u001b[0;32melse\u001b[0m\u001b[0;34m:\u001b[0m\u001b[0;34m\u001b[0m\u001b[0;34m\u001b[0m\u001b[0m\n\u001b[1;32m   1244\u001b[0m             \u001b[0;32mreturn\u001b[0m \u001b[0msuper\u001b[0m\u001b[0;34m(\u001b[0m\u001b[0;34m)\u001b[0m\u001b[0;34m.\u001b[0m\u001b[0mrecv_into\u001b[0m\u001b[0;34m(\u001b[0m\u001b[0mbuffer\u001b[0m\u001b[0;34m,\u001b[0m \u001b[0mnbytes\u001b[0m\u001b[0;34m,\u001b[0m \u001b[0mflags\u001b[0m\u001b[0;34m)\u001b[0m\u001b[0;34m\u001b[0m\u001b[0;34m\u001b[0m\u001b[0m\n",
            "\u001b[0;32m/usr/lib/python3.9/ssl.py\u001b[0m in \u001b[0;36mread\u001b[0;34m(self, len, buffer)\u001b[0m\n\u001b[1;32m   1098\u001b[0m         \u001b[0;32mtry\u001b[0m\u001b[0;34m:\u001b[0m\u001b[0;34m\u001b[0m\u001b[0;34m\u001b[0m\u001b[0m\n\u001b[1;32m   1099\u001b[0m             \u001b[0;32mif\u001b[0m \u001b[0mbuffer\u001b[0m \u001b[0;32mis\u001b[0m \u001b[0;32mnot\u001b[0m \u001b[0;32mNone\u001b[0m\u001b[0;34m:\u001b[0m\u001b[0;34m\u001b[0m\u001b[0;34m\u001b[0m\u001b[0m\n\u001b[0;32m-> 1100\u001b[0;31m                 \u001b[0;32mreturn\u001b[0m \u001b[0mself\u001b[0m\u001b[0;34m.\u001b[0m\u001b[0m_sslobj\u001b[0m\u001b[0;34m.\u001b[0m\u001b[0mread\u001b[0m\u001b[0;34m(\u001b[0m\u001b[0mlen\u001b[0m\u001b[0;34m,\u001b[0m \u001b[0mbuffer\u001b[0m\u001b[0;34m)\u001b[0m\u001b[0;34m\u001b[0m\u001b[0;34m\u001b[0m\u001b[0m\n\u001b[0m\u001b[1;32m   1101\u001b[0m             \u001b[0;32melse\u001b[0m\u001b[0;34m:\u001b[0m\u001b[0;34m\u001b[0m\u001b[0;34m\u001b[0m\u001b[0m\n\u001b[1;32m   1102\u001b[0m                 \u001b[0;32mreturn\u001b[0m \u001b[0mself\u001b[0m\u001b[0;34m.\u001b[0m\u001b[0m_sslobj\u001b[0m\u001b[0;34m.\u001b[0m\u001b[0mread\u001b[0m\u001b[0;34m(\u001b[0m\u001b[0mlen\u001b[0m\u001b[0;34m)\u001b[0m\u001b[0;34m\u001b[0m\u001b[0;34m\u001b[0m\u001b[0m\n",
            "\u001b[0;31mKeyboardInterrupt\u001b[0m: "
          ]
        }
      ]
    },
    {
      "cell_type": "code",
      "source": [
        "import schedule\n",
        "import datetime\n",
        "import pytz\n",
        "import time\n",
        "import requests\n",
        "import pandas as pd\n",
        "import requests\n",
        "from pprint import pprint\n",
        "# !pip install fake_useragent\n",
        "from fake_useragent import UserAgent\n",
        "session = requests.session()\n",
        "import time\n",
        "from datetime import datetime\n",
        "ua = UserAgent(verify_ssl=False)\n",
        "headers = {'User-Agent': ua.random}\n",
        "\n",
        "import sqlite3\n",
        "from bs4 import BeautifulSoup\n",
        "import re\n",
        "def crawler():\n",
        "    conn = sqlite3.connect('news.db')\n",
        "    cur = conn.cursor()\n",
        "\n",
        "    #страница со списком новостей \n",
        "    def parse_news_page_block(one_block):\n",
        "        block = {}\n",
        "        a = one_block.find('a')\n",
        "        block['title'] = str(a.text)\n",
        "        block['href'] = a.attrs['href']\n",
        "        block['views_news'] = int(one_block.find('div', {'class':\"news__views\"}).text)\n",
        "        block['pub_day'] = int(one_block.find('div', {'class':\"news__date\"}).text[:2])\n",
        "        block['pub_month'] = int(one_block.find('div', {'class':\"news__date\"}).text[3:5])\n",
        "        block['pub_year'] = int(one_block.find('div', {'class':\"news__date\"}).text[6:8])\n",
        "        return block\n",
        "    #страница одной новости \n",
        "    def parse_one_article(block):\n",
        "        url_one = 'https://vestinn.ru' + block['href']\n",
        "        block['page_id'] = int(block['href'].split('/')[-2])\n",
        "        req = session.get(url_one, headers={'User-Agent': ua.random})\n",
        "        page = req.text\n",
        "        soup = BeautifulSoup(page, 'html.parser')\n",
        "        block['full_text'] = str(soup.find('div', {'class':\"readMore__content ellipsis__text\"}).text)\n",
        "        t = soup.find('div',{'class':\"tags_list\"})\n",
        "        block['tags'] = str(t.find('a').text)\n",
        "        short = soup.find('meta', {'property':'og:description'}).get('content')\n",
        "        cleantext = re.compile('<.*?>|&([a-z0-9]+|#[0-9]{1,6}|#x[0-9a-f]{1,6});')\n",
        "        block['short_text'] = str(re.sub(cleantext, '', short))\n",
        "        block['date'] = str(soup.find('meta',{'itemprop':\"datePublished\"}).get('datetime'))\n",
        "        return block\n",
        "\n",
        "    #Обработать N-ую страницу новостей\n",
        "    def get_nth_page(page_number):\n",
        "        # скачиваем\n",
        "        url = f'https://vestinn.ru/news/?PAGEN_1={page_number}'\n",
        "\n",
        "        req = session.get(url, headers={'User-Agent': ua.random})\n",
        "        page = req.text\n",
        "        soup = BeautifulSoup(page, 'html.parser')\n",
        "        \n",
        "        # находим новости\n",
        "        news = soup.find_all('div', {'class': 'news'})\n",
        "        \n",
        "        \n",
        "        # идем по новостям и обрабатываем их\n",
        "        blocks = []\n",
        "        for n in news:\n",
        "            try:\n",
        "                blocks.append(parse_news_page_block(n))\n",
        "            except Exception as e:\n",
        "                print(e)\n",
        "\n",
        "        # идем по отдельным статьям и достаем информацию\n",
        "        result = []\n",
        "        for b in blocks:\n",
        "            if b['href'] not in seen_news:\n",
        "                    try:\n",
        "                        res = parse_one_article(b)\n",
        "                        res['news_id'] = b['page_id']\n",
        "                        result.append(res)\n",
        "                    except Exception as e:\n",
        "                        print(e)\n",
        "            else:\n",
        "                print('Seen', b['href'])\n",
        "        \n",
        "        # возвращаем найденную информацию\n",
        "        return result  \n",
        "    #Пишем в базу. РАБОТАЕТ, СОХРАНЯЕТ ТЭГИ\n",
        "    def write_to_db(block):\n",
        "          # сохраняем информацию по текстам\n",
        "        cur.execute(\n",
        "            \"\"\"\n",
        "            INSERT INTO texts \n",
        "                (news_id, title, pub_year, pub_month, pub_day, short_text, full_text) \n",
        "                VALUES (?, ?, ?, ?, ?, ?, ?)\n",
        "            \"\"\", (\n",
        "                block['news_id'], block['title'], block['pub_year'], block['pub_month'], \n",
        "                block['pub_day'], block['short_text'], \n",
        "                block['full_text'])\n",
        "        )\n",
        "        conn.commit()\n",
        "    #тэги\n",
        "        cur.execute(\n",
        "            \"\"\"\n",
        "            INSERT INTO tags_names\n",
        "                (news_id, tags)\n",
        "                VALUES (?, ?)\n",
        "            \"\"\", (\n",
        "                block['news_id'], block['tags'])\n",
        "        )    \n",
        "        conn.commit()\n",
        "    #просмотры\n",
        "        cur.execute(\n",
        "            \"\"\"\n",
        "            INSERT INTO views  \n",
        "                (news_id, views_news)\n",
        "                VALUES (?,?)\n",
        "            \"\"\", (\n",
        "                block['news_id'], block['views_news'])\n",
        "        )  \n",
        "        conn.commit()  \n",
        "        # добавляем, что такой id уже видели\n",
        "        seen_news.add(block['news_id'])  \n",
        "\n",
        "    from tqdm.auto import tqdm\n",
        "    conn = sqlite3.connect('news.db')\n",
        "    cur = conn.cursor()\n",
        "\n",
        "    cur.execute('SELECT news_id FROM texts')\n",
        "    seen_news = set(i[0] for i in cur.fetchall())\n",
        "\n",
        "    def run_all(n_pages):\n",
        "        for i in tqdm(range(n_pages)):\n",
        "            blocks = get_nth_page(i+1)\n",
        "            for block in blocks:\n",
        "                write_to_db(block)\n",
        "\n",
        "    run_all(30)\n",
        "def main(): #выставляем время, в которое будетт запускаться краулер \n",
        "        schedule.every().day.at(\"12:00\").do(crawler)\n",
        "        while True:\n",
        "            schedule.run_pending()\n",
        "            time.sleep(1)\n",
        "if __name__ == '__main__': #условие, где вызываем функцию\n",
        "    main()"
      ],
      "metadata": {
        "id": "BrG5PpOTK_dO"
      },
      "execution_count": null,
      "outputs": []
    },
    {
      "cell_type": "markdown",
      "source": [
        "##БОТ"
      ],
      "metadata": {
        "id": "bYpZBtjQ2dxr"
      }
    },
    {
      "cell_type": "code",
      "source": [],
      "metadata": {
        "id": "FVIzqwZt2fEy"
      },
      "execution_count": null,
      "outputs": []
    },
    {
      "cell_type": "code",
      "source": [
        "!pip install telebot\n",
        "import telebot\n",
        "from telebot import types\n",
        "import threading\n",
        "import sqlite3\n",
        "from bs4 import BeautifulSoup\n",
        "import re\n",
        "import pandas as pd\n",
        "import numpy as np\n",
        "from matplotlib import pyplot as plt\n",
        "from sklearn.metrics.pairwise import cosine_similarity\n",
        "import requests\n",
        "from pprint import pprint\n",
        "import time\n",
        "from datetime import datetime\n",
        "\n",
        "notes = {}\n",
        "\n",
        "bot = telebot.TeleBot('5627814001:AAFfUSr_HramrdpQ8HCBirmYSjJ0dvaNi_g')\n",
        "\n",
        "!pip install fake_useragent\n",
        "from fake_useragent import UserAgent\n",
        "session = requests.session()\n",
        "ua = UserAgent(verify_ssl=False)\n",
        "headers = {'User-Agent': ua.random}\n",
        "import gensim\n",
        "import logging\n",
        "import urllib.request\n",
        "import warnings\n",
        "warnings.filterwarnings('ignore')\n",
        "from nltk.corpus import stopwords\n",
        "from sklearn.feature_extraction.text import TfidfVectorizer\n",
        "from nltk.tokenize import wordpunct_tokenize\n",
        "!pip install pymorphy2\n",
        "from pymorphy2 import MorphAnalyzer\n",
        "morph = MorphAnalyzer()\n",
        "import nltk\n",
        "nltk.download('stopwords')\n",
        "stops = stopwords.words(\"russian\")\n",
        "tfidf = TfidfVectorizer(\n",
        "    analyzer=\"word\",\n",
        "    stop_words=stops, ngram_range=(1,3),min_df=3 \n",
        ")\n",
        "\n",
        "\n",
        "#БЛОК ПОСЛЕДНИЕ НОВОСТИ. открываем сайт\n",
        "print('Последние новости: ')\n",
        "page_number = 1\n",
        "url = f'https://vestinn.ru/news/?PAGEN_1={page_number}'\n",
        "req = session.get(url, headers={'User-Agent': ua.random})\n",
        "page = req.text\n",
        "\n",
        "soup = BeautifulSoup(page, 'html.parser')\n",
        "\n",
        "#все новости с общей страницы\n",
        "news = soup.find_all('div', {'class': 'news'})\n",
        "#title для последних трех новостей + ссылка\n",
        "\n",
        "title_obj = news[0].find('a')\n",
        "title = title_obj.find('div',{'class':\"ellipsis__text\"}).text\n",
        "attrs = title_obj.attrs\n",
        "href = title_obj.attrs['href']\n",
        "url= 'https://vestinn.ru' + href\n",
        "print(f'{title}. Подробнее по ссылке: {url}')\n",
        "\n",
        "title_obj1 = news[1].find('a')\n",
        "title1 = title_obj1.find('div',{'class':\"ellipsis__text\"}).text\n",
        "attrs1 = title_obj1.attrs\n",
        "href1 = title_obj1.attrs['href']\n",
        "url1= 'https://vestinn.ru' + href1\n",
        "print(f'{title1}. Подробнее по ссылке: {url1}')\n",
        "\n",
        "title_obj2 = news[2].find('a')\n",
        "title2 = title_obj2.find('div',{'class':\"ellipsis__text\"}).text\n",
        "attrs2 = title_obj2.attrs\n",
        "href2 = title_obj2.attrs['href']\n",
        "url2 = 'https://vestinn.ru' + href2\n",
        "print(f'{title2}. Подробнее по ссылке: {url2}')\n",
        "\n",
        "\n",
        "#ПОЛНАЯ ПРОГА ДЛЯ КРАУЛЕРА. \n",
        "import schedule\n",
        "import datetime\n",
        "import pytz\n",
        "import time\n",
        "import requests\n",
        "import pandas as pd\n",
        "import requests\n",
        "from pprint import pprint\n",
        "# !pip install fake_useragent\n",
        "from fake_useragent import UserAgent\n",
        "session = requests.session()\n",
        "import time\n",
        "from datetime import datetime\n",
        "ua = UserAgent(verify_ssl=False)\n",
        "headers = {'User-Agent': ua.random}\n",
        "\n",
        "import sqlite3\n",
        "from bs4 import BeautifulSoup\n",
        "import re\n",
        "def crawler():\n",
        "    conn = sqlite3.connect('news.db')\n",
        "    cur = conn.cursor()\n",
        "    cur.execute(\"\"\"\n",
        "    CREATE TABLE IF NOT EXISTS texts \n",
        "    (id INTEGER PRIMARY KEY AUTOINCREMENT, news_id int, pub_year int, pub_month int, \n",
        "    pub_day int, title text, short_text text, full_text text, link text)\n",
        "    \"\"\")\n",
        "    #тэги\n",
        "    cur.execute(\"\"\"\n",
        "    CREATE TABLE IF NOT EXISTS tags_names\n",
        "    (id int PRIMARY KEY, news_id int, tags text) \n",
        "    \"\"\")\n",
        "    #просмотры\n",
        "    cur.execute(\"\"\"\n",
        "    CREATE TABLE IF NOT EXISTS views \n",
        "    (id int PRIMARY KEY, news_id int, views_news int) \n",
        "    \"\"\")\n",
        "\n",
        "\n",
        "    conn.commit()\n",
        "    conn.close()\n",
        "    #страница со списком новостей \n",
        "    def parse_news_page_block(one_block):\n",
        "        block = {}\n",
        "        a = one_block.find('a')\n",
        "        block['title'] = str(a.text)\n",
        "        block['href'] = a.attrs['href']\n",
        "        block['views_news'] = int(one_block.find('div', {'class':\"news__views\"}).text)\n",
        "        block['pub_day'] = int(one_block.find('div', {'class':\"news__date\"}).text[:2])\n",
        "        block['pub_month'] = int(one_block.find('div', {'class':\"news__date\"}).text[3:5])\n",
        "        block['pub_year'] = int(one_block.find('div', {'class':\"news__date\"}).text[6:8])\n",
        "        return block\n",
        "    #страница одной новости \n",
        "    def parse_one_article(block):\n",
        "        url_one = 'https://vestinn.ru' + block['href']\n",
        "        block['link'] = 'https://vestinn.ru' + block['href']\n",
        "        block['page_id'] = int(block['href'].split('/')[-2])\n",
        "        req = session.get(url_one, headers={'User-Agent': ua.random})\n",
        "        page = req.text\n",
        "        soup = BeautifulSoup(page, 'html.parser')\n",
        "        block['full_text'] = str(soup.find('div', {'class':\"readMore__content ellipsis__text\"}).text)\n",
        "        t = soup.find('div',{'class':\"tags_list\"})\n",
        "        block['tags'] = str(t.find('a').text)\n",
        "        short = soup.find('meta', {'property':'og:description'}).get('content')\n",
        "        cleantext = re.compile('<.*?>|&([a-z0-9]+|#[0-9]{1,6}|#x[0-9a-f]{1,6});')\n",
        "        block['short_text'] = str(re.sub(cleantext, '', short))\n",
        "        block['date'] = str(soup.find('meta',{'itemprop':\"datePublished\"}).get('datetime'))\n",
        "        return block\n",
        "\n",
        "    #Обработать N-ую страницу новостей\n",
        "    def get_nth_page(page_number):\n",
        "        # скачиваем\n",
        "        url = f'https://vestinn.ru/news/?PAGEN_1={page_number}'\n",
        "\n",
        "        req = session.get(url, headers={'User-Agent': ua.random})\n",
        "        page = req.text\n",
        "        soup = BeautifulSoup(page, 'html.parser')\n",
        "        \n",
        "        # находим новости\n",
        "        news = soup.find_all('div', {'class': 'news'})\n",
        "        \n",
        "        \n",
        "        # идем по новостям и обрабатываем их\n",
        "        blocks = []\n",
        "        for n in news:\n",
        "            try:\n",
        "                blocks.append(parse_news_page_block(n))\n",
        "            except Exception as e:\n",
        "                print(e)\n",
        "\n",
        "        # идем по отдельным статьям и достаем информацию\n",
        "        result = []\n",
        "        for b in blocks:\n",
        "            if b['href'] not in seen_news:\n",
        "                    try:\n",
        "                        res = parse_one_article(b)\n",
        "                        res['news_id'] = b['page_id']\n",
        "                        result.append(res)\n",
        "                    except Exception as e:\n",
        "                        print(e)\n",
        "            else:\n",
        "                print('Seen', b['href'])\n",
        "        \n",
        "        # возвращаем найденную информацию\n",
        "        return result  \n",
        "    #Пишем в базу. \n",
        "    def write_to_db(block):\n",
        "          # сохраняем информацию по текстам\n",
        "        cur.execute(\n",
        "            \"\"\"\n",
        "            INSERT INTO texts \n",
        "                (news_id, title, pub_year, pub_month, pub_day, short_text, full_text, link) \n",
        "                VALUES (?, ?, ?, ?, ?, ?, ?, ?)\n",
        "            \"\"\", (\n",
        "                block['news_id'], block['title'], block['pub_year'], block['pub_month'], \n",
        "                block['pub_day'], block['short_text'], \n",
        "                block['full_text'], block['link'])\n",
        "        )\n",
        "        conn.commit()\n",
        "    #тэги\n",
        "        cur.execute(\n",
        "            \"\"\"\n",
        "            INSERT INTO tags_names\n",
        "                (news_id, tags)\n",
        "                VALUES (?, ?)\n",
        "            \"\"\", (\n",
        "                block['news_id'], block['tags'])\n",
        "        )    \n",
        "        conn.commit()\n",
        "    #просмотры\n",
        "        cur.execute(\n",
        "            \"\"\"\n",
        "            INSERT INTO views  \n",
        "                (news_id, views_news)\n",
        "                VALUES (?,?)\n",
        "            \"\"\", (\n",
        "                block['news_id'], block['views_news'])\n",
        "        )  \n",
        "        conn.commit()  \n",
        "        # добавляем, что такой id уже видели\n",
        "        seen_news.add(block['news_id'])  \n",
        " \n",
        "\n",
        "    from tqdm.auto import tqdm\n",
        "    conn = sqlite3.connect('news.db')\n",
        "    cur = conn.cursor()\n",
        "\n",
        "    cur.execute('SELECT news_id FROM texts')\n",
        "    seen_news = set(i[0] for i in cur.fetchall())\n",
        "\n",
        "    def run_all(n_pages):\n",
        "        for i in tqdm(range(n_pages)):\n",
        "            blocks = get_nth_page(i+1)\n",
        "            for block in blocks:\n",
        "                write_to_db(block)\n",
        "\n",
        "    run_all(30)\n",
        "\n",
        "def main(): #Таймер\n",
        "    # Выставляем время, в которое будет запускаться краулер \n",
        "    schedule.every().day.at(\"02:28\").do(crawler)\n",
        "    while True:\n",
        "        schedule.run_pending()\n",
        "        time.sleep(1)\n",
        "\n",
        "if __name__ == 'main':\n",
        "    # Запускаем функцию main() в отдельном потоке\n",
        "    t = threading.Thread(target=main)\n",
        "    t.start()\n",
        "    t.join() # Ожидаем завершения потока\n",
        "    # Код после выполнения функции main() продолжит выполняться\n",
        "\n",
        "con = sqlite3.connect('news.db')  # подключение\n",
        "cur = con.cursor() \n",
        "\n",
        "id_title_text = \"\"\"\n",
        "SELECT news_id, title, full_text, pub_day, link  from texts\n",
        "\"\"\"\n",
        "cur.execute(id_title_text)\n",
        "\n",
        "df = pd.read_sql_query(id_title_text, con=conn)\n",
        "\n",
        "\n",
        "#БЛОК СТАТИСТИКИ\n",
        "\n",
        "# #ГРАФИК САМЫЕ НАСЫЩЕННЫЕ ДНИ\n",
        "current_month = time.strftime(\"%m\") \n",
        "fullest_day =\"\"\"\n",
        "SELECT count(pub_day) as cnt, pub_day, pub_month\n",
        "    FROM texts\n",
        "        WHERE pub_month = ?\n",
        "        GROUP BY pub_day\n",
        "        ORDER BY cnt DESC\n",
        "        LIMIT 30;\n",
        "\"\"\"\n",
        "cur.execute(fullest_day, (current_month, ))\n",
        "cur.fetchall()\n",
        "\n",
        "df = pd.read_sql_query(fullest_day, params = [current_month], con=con)\n",
        "df.plot(x = \"pub_day\", y = \"cnt\", color='mediumseagreen', marker='o', label='День публикации')\n",
        "plt.locator_params (axis='x') \n",
        "plt.locator_params (axis='y')      \n",
        "plt.title('Соотношение количества новостей по дням')   \n",
        "plt.xlabel('День публикации')   \n",
        "plt.ylabel('Кол-во новостей')     \n",
        "fullest_day_img = plt.savefig('fullest_day.png', facecolor = 'lightgrey') #сохраняем как картинку\n",
        "plt.show()\n",
        "\n",
        "\n",
        "\n",
        "\n",
        "#КЛЮЧЕВЫЕ СЛОВА\n",
        "con = sqlite3.connect('news.db')  # подключение\n",
        "cur = con.cursor() \n",
        "id_title_text = \"\"\"\n",
        "SELECT news_id, title, full_text, pub_day from texts\n",
        "\"\"\"\n",
        "cur.execute(id_title_text)\n",
        "df = pd.read_sql_query(id_title_text, con=conn)\n",
        "list_of_texts = df[['title','full_text']].values.tolist()\n",
        "articles_preprocessed = []\n",
        "for a_text in list_of_texts:\n",
        "    a_tokens = wordpunct_tokenize(a_text[1])\n",
        "    a_lemmatized = \" \".join([morph.parse(item)[0].normal_form for item in a_tokens])\n",
        "    articles_preprocessed.append(a_lemmatized)\n",
        "articles_tfidf = tfidf.fit_transform(articles_preprocessed)\n",
        "print(f\"Матрица на {articles_tfidf.shape[0]} документов и {articles_tfidf.shape[1]} термов\")\n",
        "\n",
        "def get_top_tf_idf_words(tfidf_vector, feature_names, top_n):\n",
        "    sorted_nzs = np.argsort(tfidf_vector.data)[:-(top_n+1):-1]\n",
        "    return feature_names[tfidf_vector.indices[sorted_nzs]]\n",
        "feature_names = np.array(tfidf.get_feature_names_out())\n",
        "\n",
        "for i, article in enumerate(list_of_texts[:1]):\n",
        "    if i <= 1830:\n",
        "        article_vector = articles_tfidf[i, :]\n",
        "        words = get_top_tf_idf_words(article_vector, feature_names, 5)\n",
        "        print(article[0])\n",
        "        print(words)    \n",
        "\n",
        "\n",
        "#САМЫЕ ПОПУЛЯРНЫЕ НОВОСТИ\n",
        "current_month = time.strftime(\"%m\")\n",
        "popular_news = \"\"\"\n",
        "SELECT texts.news_id, title, views_news, pub_month, link\n",
        "    FROM texts\n",
        "        JOIN views ON texts.news_id = views.news_id\n",
        "        WHERE pub_month = ?\n",
        "        GROUP BY title\n",
        "        ORDER BY views_news DESC\n",
        "        LIMIT 3;\n",
        "\"\"\"\n",
        "cur.execute(popular_news, (current_month,))\n",
        "df = pd.read_sql_query(popular_news, params=[current_month], con=con)\n",
        "\n",
        "\n",
        "\n",
        "# Функция, обрабатывающая команду /help\n",
        "@bot.message_handler(commands=['help'])\n",
        "def send_welcome(message):\n",
        "    bot.send_message(message.chat.id, 'Привет, это бот, анализирующий новости. Нажми команду /start, чтобы запустить бота')\n",
        "\n",
        "\n",
        "@bot.message_handler(commands = [\"start\"])\n",
        "def start(message):\n",
        "    user_id = message.chat.id\n",
        "    notes[user_id] = message.text\n",
        "    keyboard = types.InlineKeyboardMarkup()\n",
        "    item1 = types.InlineKeyboardButton(text = 'Да', callback_data= 'item1')\n",
        "    item2 = types.InlineKeyboardButton(text = 'Нет', callback_data= 'item2')\n",
        "    keyboard.add(item1, item2) # прикрепляем к клавиатуре две кнопки\n",
        "    bot.send_message(message.chat.id, 'Хочешь посмотреть последние новости и статистику по новостям?', reply_markup = keyboard) # прикрепляем клавиатуру к сообщению\n",
        "\n",
        "\n",
        "# функция запустится, когда пользователь нажмет на кнопку\n",
        "@bot.callback_query_handler(func=lambda call: True)\n",
        "def callback_inline(call):\n",
        "    if call.message:\n",
        "        if call.data == 'item1':\n",
        "#БЛОК С ПОСЛЕДНИМИ НОВОСТЯМИ \n",
        "            keyboard = types.InlineKeyboardMarkup(row_width = 1)\n",
        "            item3 = types.InlineKeyboardButton(text = 'Последние новости', callback_data= 'item3')\n",
        "            item4 = types.InlineKeyboardButton(text = 'Статистика по новостям', callback_data= 'item4')\n",
        "            keyboard.add(item3, item4) # прикрепляем к клавиатуре две кнопки\n",
        "            bot.send_message(call.message.chat.id, 'Что ты хочешь от меня получить?', reply_markup = keyboard) # прикрепляем клавиатуру к сообщению \n",
        "\n",
        "    if call.message:\n",
        "        if call.data == 'item3':     #Если последние новости     \n",
        "            keyboard = types.InlineKeyboardMarkup()\n",
        "            item11 = types.InlineKeyboardButton(text = 'Спасибо', callback_data= 'item10')\n",
        "            #последние три новости \n",
        "            bot.send_message(call.message.chat.id, f'{title}. Подробнее по ссылке: {url}')\n",
        "            bot.send_message(call.message.chat.id, f'{title1}. Подробнее по ссылке: {url1}')\n",
        "            bot.send_message(call.message.chat.id, f'{title2}. Подробнее по ссылке: {url2}')\n",
        "            keyboard.add(item11)\n",
        "            bot.send_message(call.message.chat.id, 'Держи последние новости:', reply_markup = keyboard)\n",
        "\n",
        "    if call.message:\n",
        "#БЛОК СО СТАТИСТИКОЙ\n",
        "        if call.data == 'item4': #Если статистика\n",
        "            markup = types.InlineKeyboardMarkup(row_width = 1)\n",
        "            item5 = types.InlineKeyboardButton(text = 'Ключевые слова', callback_data= 'item5')\n",
        "            item6 = types.InlineKeyboardButton(text = 'Сколько новостей запостили в день', callback_data= 'item6')            \n",
        "            item7 = types.InlineKeyboardButton(text = 'Самые популярные новости', callback_data= 'item7')  \n",
        "            item8 = types.InlineKeyboardButton(text = 'Близкие по смыслу новости', callback_data= 'item8')          \n",
        "            markup.add(item5, item6, item7, item8) # прикрепляем к клавиатуре две кнопки\n",
        "            bot.send_message(call.message.chat.id, 'Выбери вариант статистики', reply_markup = markup) # прикрепляем клавиатуру к сообщению\n",
        "#КЛЮЧЕВЫЕ СЛОВА. РАБОТАЕТ\n",
        "        if call.data == 'item5': #Если Ключевые слова\n",
        "            bot.send_message(call.message.chat.id, article[0])\n",
        "            chat_id = call.message.chat.id\n",
        "            bot.send_message(chat_id, '\\n'.join(map(str, words)))\n",
        "\n",
        "        if call.data == 'item6': #Если насыщенный день\n",
        "#Самый насыщенный новостями день. \n",
        "            img_to_user = open('fullest_day.png', 'rb')\n",
        "            bot.send_photo(call.message.chat.id, img_to_user)\n",
        "\n",
        "#ТРИ ПОПУЛЯРНЫЕ НОВОСТИ ЗА МЕСЯЦ ПО КОЛ_ВУ ПРОСМОТРОВ.\n",
        "        if call.data == 'item7':\n",
        "            print(\"Топ-3 самых популярных новостей за текущий месяц:\")\n",
        "            for i, row in df.iterrows(): #перебираю строки в df \n",
        "                popular =\"{}. {} ({})\".format(i+1, row['title'], row['link'])\n",
        "                print(popular)\n",
        "                bot.send_message(call.message.chat.id, (popular))\n",
        "\n",
        "#БЛИЗКИЕ НОВОСТИ. РАБОТАЕТ\n",
        "        if call.data == 'item8': #Близкие новости\n",
        "            #Близость между векторами текстов, три похожих текста\n",
        "            list_of_close = []\n",
        "            list_of_close1 = []\n",
        "            list_of_close2 = []\n",
        "            print('Тексты, для которых находят похожие тексты:',list_of_texts[0][0])\n",
        "            bot.send_message(call.message.chat.id, f'Новость:{list_of_texts[0][0]}')\n",
        "            for d in cosine_similarity(articles_tfidf[0], articles_tfidf).flatten().argsort()[:-4:-1]:\n",
        "                list_of_close.append(list_of_texts[d][0])\n",
        "                print('Тексты:')\n",
        "            bot.send_message(call.message.chat.id, 'Три похожие новости:')\n",
        "            for i in list_of_close:\n",
        "                close = '\\n'+(str(i))\n",
        "                print(close)\n",
        "                bot.send_message(call.message.chat.id, close)\n",
        "\n",
        "\n",
        "    if call.message:       \n",
        "#ЦИКЛ\n",
        "        if call.data == 'item2': #Если \"нет\"\n",
        "            markup = types.InlineKeyboardMarkup(row_width = 1)\n",
        "            item9 = types.InlineKeyboardButton(text = 'Да, я не хочу смотреть новости', callback_data= 'item9')\n",
        "            item10 = types.InlineKeyboardButton(text = 'Я передумал(а). Хочу смотреть новости!', callback_data= 'item10')\n",
        "            markup.add(item9, item10)\n",
        "            bot.send_message(call.message.chat.id, 'Точно?',  reply_markup = markup)            \n",
        "\n",
        "        if call.data == 'item10': #Если передумал\n",
        "            keyboard = types.InlineKeyboardMarkup(row_width = 1)\n",
        "            item3 = types.InlineKeyboardButton(text = 'Последние новости', callback_data= 'item3')\n",
        "            item4 = types.InlineKeyboardButton(text = 'Статистика по новостям', callback_data= 'item4')\n",
        "            keyboard.add(item3,item4)\n",
        "            bot.send_message(call.message.chat.id, 'Что ты хочешь от меня получить?', reply_markup = keyboard)\n",
        "\n",
        "        if call.data == 'item9': #Если не передумал\n",
        "            bot.send_message(call.message.chat.id, 'Пока')\n",
        "\n",
        "        if call.data in ['item5', 'item6', 'item7', 'item8', 'item11']: #Цикл после того, как прислалась статистика или последние новости \n",
        "            keyboard = types.InlineKeyboardMarkup()\n",
        "            item1 = types.InlineKeyboardButton(text = 'Да', callback_data= 'item1')\n",
        "            item2 = types.InlineKeyboardButton(text = 'Нет', callback_data= 'item2')\n",
        "            keyboard.add(item1, item2) # прикрепляем к клавиатуре две кнопки\n",
        "            bot.send_message(call.message.chat.id, 'Хочешь посмотреть последние новости и статистику по новостям?', reply_markup = keyboard)  # прикрепляем клавиатуру к сообщению \n",
        "\n",
        "\n",
        "bot.polling(none_stop=True)\n"
      ],
      "metadata": {
        "colab": {
          "base_uri": "https://localhost:8080/",
          "height": 988
        },
        "id": "GZbd7AM5-_H7",
        "outputId": "9ea617ae-74c3-4421-fdb8-410ec2bfc1c7"
      },
      "execution_count": 8,
      "outputs": [
        {
          "output_type": "stream",
          "name": "stdout",
          "text": [
            "Looking in indexes: https://pypi.org/simple, https://us-python.pkg.dev/colab-wheels/public/simple/\n",
            "Requirement already satisfied: telebot in /usr/local/lib/python3.9/dist-packages (0.0.5)\n",
            "Requirement already satisfied: requests in /usr/local/lib/python3.9/dist-packages (from telebot) (2.27.1)\n",
            "Requirement already satisfied: pyTelegramBotAPI in /usr/local/lib/python3.9/dist-packages (from telebot) (4.10.0)\n",
            "Requirement already satisfied: certifi>=2017.4.17 in /usr/local/lib/python3.9/dist-packages (from requests->telebot) (2022.12.7)\n",
            "Requirement already satisfied: idna<4,>=2.5 in /usr/local/lib/python3.9/dist-packages (from requests->telebot) (3.4)\n",
            "Requirement already satisfied: charset-normalizer~=2.0.0 in /usr/local/lib/python3.9/dist-packages (from requests->telebot) (2.0.12)\n",
            "Requirement already satisfied: urllib3<1.27,>=1.21.1 in /usr/local/lib/python3.9/dist-packages (from requests->telebot) (1.26.15)\n",
            "Looking in indexes: https://pypi.org/simple, https://us-python.pkg.dev/colab-wheels/public/simple/\n",
            "Requirement already satisfied: fake_useragent in /usr/local/lib/python3.9/dist-packages (1.1.3)\n",
            "Requirement already satisfied: importlib-resources>=5.0 in /usr/local/lib/python3.9/dist-packages (from fake_useragent) (5.12.0)\n",
            "Requirement already satisfied: zipp>=3.1.0 in /usr/local/lib/python3.9/dist-packages (from importlib-resources>=5.0->fake_useragent) (3.15.0)\n",
            "Looking in indexes: https://pypi.org/simple, https://us-python.pkg.dev/colab-wheels/public/simple/\n",
            "Requirement already satisfied: pymorphy2 in /usr/local/lib/python3.9/dist-packages (0.9.1)\n",
            "Requirement already satisfied: pymorphy2-dicts-ru<3.0,>=2.4 in /usr/local/lib/python3.9/dist-packages (from pymorphy2) (2.4.417127.4579844)\n",
            "Requirement already satisfied: docopt>=0.6 in /usr/local/lib/python3.9/dist-packages (from pymorphy2) (0.6.2)\n",
            "Requirement already satisfied: dawg-python>=0.7.1 in /usr/local/lib/python3.9/dist-packages (from pymorphy2) (0.7.2)\n"
          ]
        },
        {
          "output_type": "stream",
          "name": "stderr",
          "text": [
            "[nltk_data] Downloading package stopwords to /root/nltk_data...\n",
            "[nltk_data]   Package stopwords is already up-to-date!\n"
          ]
        },
        {
          "output_type": "stream",
          "name": "stdout",
          "text": [
            "Последние новости: \n",
            "Программа передач телеканала “Нижний Новгород 24” на 27 марта. Подробнее по ссылке: https://vestinn.ru/news/vesti/215643/\n",
            "Роспотребнадзор усилил мониторинг территорий, на которых возможен паводок. Подробнее по ссылке: https://vestinn.ru/news/society/215702/\n",
            "Два трамвая \"МиНиН\" вышли по маршруту двойки. Подробнее по ссылке: https://vestinn.ru/news/society/215701/\n"
          ]
        },
        {
          "output_type": "display_data",
          "data": {
            "text/plain": [
              "<Figure size 432x288 with 1 Axes>"
            ],
            "image/png": "[encoded data removed]"
          },
          "metadata": {
            "needs_background": "light"
          }
        },
        {
          "output_type": "stream",
          "name": "stdout",
          "text": [
            "Матрица на 542 документов и 5459 термов\n",
            "\n",
            "\n",
            "\n",
            "\n",
            "\n",
            "23:59\n",
            "26.03.23\n",
            "155\n",
            "\n",
            "Программа передач телеканала “Нижний Новгород 24” на 27 марта\n",
            "\n",
            "\n",
            "\n",
            "['16' 'вести' '00' 'цикл' '50']\n"
          ]
        }
      ]
    },
    {
      "cell_type": "code",
      "source": [],
      "metadata": {
        "id": "ENt4puXU2stV"
      },
      "execution_count": null,
      "outputs": []
    }
  ]
}